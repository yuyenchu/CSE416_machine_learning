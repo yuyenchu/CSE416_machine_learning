{
  "nbformat": 4,
  "nbformat_minor": 0,
  "metadata": {
    "colab": {
      "name": "A6_Deep_Learning_with_Keras.ipynb",
      "provenance": [],
      "collapsed_sections": []
    },
    "kernelspec": {
      "name": "python3",
      "display_name": "Python 3"
    },
    "accelerator": "GPU"
  },
  "cells": [
    {
      "cell_type": "markdown",
      "metadata": {
        "id": "HA5AqlWkAL9b",
        "colab_type": "text"
      },
      "source": [
        "# Assignment 6 - Deep Learning\n",
        "Due: Thursday, May 21st, 11:59 pm on Gradescope.\n",
        "\n",
        "This assignment will give you practice using the library [Keras](https://keras.io/), which is a popular library for getting started with deep learning models. Deep Learning is a very powerful tool because it is able to learn very complicated functions. Deep Learning has revolutionized fields like image and speech recognition.\n",
        "\n",
        "The specific task we are trying to solve in this assignment is image classification. We will be using a very commong dataset called CIFAR-10 that has 60,000 images separated into 10 classes. The classes are\n",
        "\n",
        "airplane\n",
        "automobile\n",
        "bird\n",
        "cat\n",
        "deer\n",
        "dog\n",
        "frog\n",
        "horse\n",
        "ship\n",
        "truck\n",
        "In this assignment, you will practice:\n",
        "\n",
        "Reading documentation for a modern machine learning library\n",
        "Writing Keras code.\n",
        "Evaluating neural network models.\n",
        "Fill in the cells provided marked TODO with code to answer the questions. Unless otherwise noted, every answer you submit should have code that clearly shows the answer in the output. Answers submitted that do not have associated code that shows the answer may not be accepted for credit.\n",
        "\n",
        "Make sure to restart the kernel and run all cells (especially before turning it in) to make sure your code runs correctly. Answer the questions on Gradescope and make sure to upload your notebook to the upload section.\n",
        "\n",
        "Copyright ©2020 Hunter Schafer and Valentina Staneva. Hunter Schafer wrote the original PyTorch version of this exercise. Valentina Staneva wrote the Keras version of the exercise. All rights reserved. Permission is hereby granted to students registered for University of Washington CSE/STAT 416 for use solely during Spring Quarter 2020 for purposes of the course. No other use, copying, distribution, or modification is permitted without prior written consent. Copyrights for third-party components of this work must be honored. Instructors interested in reusing these course materials should contact the author.\n",
        "\n",
        "## Step 1 - Background Reading\n",
        "Before starting this assignment, you should familiarize yourself with Keras. Review the notebooks from the section: [nn_notebook](https://drive.google.com/file/d/1WzM0eSogowR6bVqIrvE55wS4-OyRJ87F/view) and [cnn_notebook](https://drive.google.com/file/d/1iccoUX-HumXNxcCRXW-7msh3vZdwJ6_0/view). \n",
        "\n",
        "Spend also some time to read this Keras Guide: \n",
        "[Introduction to Keras for Engineers](https://keras.io/getting_started/intro_to_keras_for_engineers/)\n",
        "\n",
        "Skim through the sections at least up to **Using callbacks for checkpointing (and more)**.\n",
        "That will help you know where to go back if something is unlcear. There is also an associated Colab notebook. \n",
        " \n",
        "You can also rely on the documentation of the individual functions you are using to see their input-output requirements.\n",
        "\n",
        "Assignment\n",
        "Before you start, make sure you have enabled GPU for your Colab Runtime. In the Runtime drop down above, click on \"Change runtime type\" and select \"GPU\" in the Hardware Accelerator field.\n",
        "\n",
        "First we import all of the modules we will use in this assignment."
      ]
    },
    {
      "cell_type": "code",
      "metadata": {
        "id": "5NJ1d5h2GY8R",
        "colab_type": "code",
        "colab": {
          "base_uri": "https://localhost:8080/",
          "height": 34
        },
        "outputId": "8e8c525b-fb2e-4873-cc48-9861001c3b73"
      },
      "source": [
        "from __future__ import print_function\n",
        "import keras\n",
        "from keras.datasets import cifar10\n",
        "from keras.models import Sequential\n",
        "from keras.layers import Dense, Dropout, Activation, Flatten\n",
        "from keras.layers import Conv2D, MaxPooling2D\n",
        "import os"
      ],
      "execution_count": 1,
      "outputs": [
        {
          "output_type": "stream",
          "text": [
            "Using TensorFlow backend.\n"
          ],
          "name": "stderr"
        }
      ]
    },
    {
      "cell_type": "markdown",
      "metadata": {
        "id": "MQo_OfjWGzo2",
        "colab_type": "text"
      },
      "source": [
        "Then we define some constants that will be used throughout the program."
      ]
    },
    {
      "cell_type": "code",
      "metadata": {
        "id": "BGtWrT_PGjsi",
        "colab_type": "code",
        "colab": {}
      },
      "source": [
        "INPUT_SIZE    = 3 * 32 * 32   # An image has 32 x 32 pixels each with Red/Green/Blue values. \n",
        "NUM_CLASSES   = 10            # The number of output classes. In this case, from 0 to 9\n",
        "NUM_EPOCHS    = 10            # The number of times we loop over the whole dataset during training\n",
        "BATCH_SIZE    = 32            # The size of input data took for one iteration of an epoch\n",
        "LEARNING_RATE = 1e-4          # The speed of convergence"
      ],
      "execution_count": 0,
      "outputs": []
    },
    {
      "cell_type": "markdown",
      "metadata": {
        "id": "U7FkapQZHhQv",
        "colab_type": "text"
      },
      "source": [
        "The first step is to download the dataset using Keras. The dataset is built-in keras so we do not need a link to access. The code below produces a train set and a test set. This is actually pretty similar to `scikit-learn`. We will also convert the labels to a vector with 10 categories.\n",
        "  "
      ]
    },
    {
      "cell_type": "code",
      "metadata": {
        "id": "cP37q5AxIrCJ",
        "colab_type": "code",
        "colab": {
          "base_uri": "https://localhost:8080/",
          "height": 102
        },
        "outputId": "9db8d966-432b-4240-e4b4-969c17e1708a"
      },
      "source": [
        "# The data, split between train and test sets:\n",
        "(x_train, y_train), (x_test, y_test) = cifar10.load_data()\n",
        "print('x_train shape:', x_train.shape)\n",
        "print(x_train.shape[0], 'train samples')\n",
        "print(x_test.shape[0], 'test samples')\n",
        "\n",
        "# Convert class vectors to binary class matrices.\n",
        "y_train = keras.utils.to_categorical(y_train, NUM_CLASSES)\n",
        "y_test = keras.utils.to_categorical(y_test, NUM_CLASSES)"
      ],
      "execution_count": 3,
      "outputs": [
        {
          "output_type": "stream",
          "text": [
            "Downloading data from https://www.cs.toronto.edu/~kriz/cifar-10-python.tar.gz\n",
            "170500096/170498071 [==============================] - 6s 0us/step\n",
            "x_train shape: (50000, 32, 32, 3)\n",
            "50000 train samples\n",
            "10000 test samples\n"
          ],
          "name": "stdout"
        }
      ]
    },
    {
      "cell_type": "markdown",
      "metadata": {
        "id": "2mwDzVTf15Xv",
        "colab_type": "text"
      },
      "source": [
        "Now that you have split the test and train data, do a second split into train and validation (4:1 ratio).  You can simply call the `scikit-learn` `train_test_split` function for that and call the new validation variables `x_val` and `y_val`. Use `random_state=1`."
      ]
    },
    {
      "cell_type": "code",
      "metadata": {
        "id": "41nB3azG0gew",
        "colab_type": "code",
        "colab": {
          "base_uri": "https://localhost:8080/",
          "height": 34
        },
        "outputId": "37590bf9-b1b4-492e-e1f6-cc3d9561d52f"
      },
      "source": [
        "# TODO\n",
        "# create the x_val and y_val datasets\n",
        "from sklearn.model_selection import train_test_split\n",
        "x_train, x_val, y_train, y_val = train_test_split(x_train, y_train, test_size=0.2, random_state=1)\n",
        "print(len(x_train), len(x_val), len(y_train), len(y_val))"
      ],
      "execution_count": 4,
      "outputs": [
        {
          "output_type": "stream",
          "text": [
            "40000 10000 40000 10000\n"
          ],
          "name": "stdout"
        }
      ]
    },
    {
      "cell_type": "markdown",
      "metadata": {
        "id": "x97j43AQ64to",
        "colab_type": "text"
      },
      "source": [
        "We will later use the validation set while training the network. After each epoch on can evaluate the model on the validation set to check if the performance starts to deteorate. This is built-in `keras`. One just needs to pass it in the `fit` function."
      ]
    },
    {
      "cell_type": "code",
      "metadata": {
        "id": "JeHPH34ivurz",
        "colab_type": "code",
        "colab": {
          "base_uri": "https://localhost:8080/",
          "height": 300
        },
        "outputId": "f795bcbc-7252-4ba8-8879-6165c162c528"
      },
      "source": [
        "# look at an image\n",
        "import matplotlib.pyplot as plt\n",
        "plt.imshow(x_train[0])\n",
        "plt.figure(figsize = (0.5,0.5))"
      ],
      "execution_count": 5,
      "outputs": [
        {
          "output_type": "execute_result",
          "data": {
            "text/plain": [
              "<Figure size 36x36 with 0 Axes>"
            ]
          },
          "metadata": {
            "tags": []
          },
          "execution_count": 5
        },
        {
          "output_type": "display_data",
          "data": {
            "image/png": "[encoded data removed]",
            "text/plain": [
              "<Figure size 432x288 with 1 Axes>"
            ]
          },
          "metadata": {
            "tags": [],
            "needs_background": "light"
          }
        },
        {
          "output_type": "display_data",
          "data": {
            "text/plain": [
              "<Figure size 36x36 with 0 Axes>"
            ]
          },
          "metadata": {
            "tags": []
          }
        }
      ]
    },
    {
      "cell_type": "code",
      "metadata": {
        "id": "TBkv3JzhJdoT",
        "colab_type": "code",
        "colab": {}
      },
      "source": [
        "# We will also convert the images to float and will divide by 255 so that the values are between (0,1)\n",
        "x_train = x_train.astype('float32')\n",
        "x_test = x_test.astype('float32')\n",
        "x_val = x_val.astype('float32')\n",
        "x_train /= 255\n",
        "x_test /= 255\n",
        "x_val /= 255"
      ],
      "execution_count": 0,
      "outputs": []
    },
    {
      "cell_type": "markdown",
      "metadata": {
        "id": "KBx5ROszAKd9",
        "colab_type": "text"
      },
      "source": [
        "The function below is a generic function to train any model and store the history of training. "
      ]
    },
    {
      "cell_type": "code",
      "metadata": {
        "id": "VJAv3KCzLpig",
        "colab_type": "code",
        "colab": {}
      },
      "source": [
        "def train_model(model, x_train, y_train, x_val, y_val,\n",
        "          num_epochs=NUM_EPOCHS, batch_size = BATCH_SIZE, learning_rate=LEARNING_RATE):\n",
        "  \n",
        "  # we will train the model with the RMSprop algorithm\n",
        "  opt = keras.optimizers.RMSprop(learning_rate=learning_rate, decay=1e-6)\n",
        "\n",
        "  # we will use the crossentropy cost, and will look at the accuracy\n",
        "  model.compile(loss='categorical_crossentropy',\n",
        "              optimizer=opt,\n",
        "              metrics=['accuracy'])\n",
        "  \n",
        "  # here we fit the model\n",
        "  history = model.fit(x_train, y_train,\n",
        "            batch_size=batch_size,\n",
        "            epochs=num_epochs,\n",
        "            validation_data=(x_val, y_val),\n",
        "            shuffle=False)\n",
        "  \n",
        "  return(model, history)\n"
      ],
      "execution_count": 0,
      "outputs": []
    },
    {
      "cell_type": "markdown",
      "metadata": {
        "id": "Jaiq1S6o1wIT",
        "colab_type": "text"
      },
      "source": [
        "## Step 2\n",
        "To use the functions above we need to define some neural network models to train. Since we are trying to solve a classification problem with 10 classes all models should have a Softmax Activation to connect the last layer with the Classes. [Softmax] is the extension of the logistic sigmoid function for multiple classes. \n",
        "\n",
        "### `NetA`\n",
        "The first neural network will be the simplest, in that it has no hidden layers. It should take the image and flatten it to a vector for the input, and then have 10 outputs, one for each class. That should be a familiar linear classifier.\n",
        "\n",
        "\n",
        "\n",
        "### `NetB`\n",
        "The second neural network will be slightly more complicated in that it has a hidden layer with 300 nodes and adds a non-linearity between the layers. It should use the following operations in this order:\n",
        "* Flatten the image to a vector for the input\n",
        "* Use a fully-connected linear layer with 300 hidden-neurons\n",
        "* Use the ReLU activation function\n",
        "* Use a fully-connected layer to the 10 outputs.\n",
        "\n",
        "### `NetC`\n",
        "This third neural network will be a convolutional neural network. It should use the following operations in this order: \n",
        "* Use a convolution layer with kernel-width 5, depth 25, and padding `same`\n",
        "* Use the ReLU activation function\n",
        "* Use a max-pool operation with kernel-width 2 and stride 2\n",
        "* Flatten the image to a vector for the next step's input\n",
        "* Use a fully-connected layer to the 10 outputs.\n",
        "\n",
        "This architecture can be seen visually in the following diagram (the left-most object is the input image). \n",
        "\n",
        "![Network Architecture](https://courses.cs.washington.edu/courses/cse416/19su/files/assignment-resources/homework/hw7/nn.svg)\n",
        "\n",
        "Notice that these diagrams use the notation \n",
        "```\n",
        "channels @ height x width\n",
        "``` \n",
        "to describe the dimensions of the results at each step.\n",
        "\n",
        "### `NetD`\n",
        "This is your chance to try out some different architectures of your choice. Create your own neural network architecture that has **at least 2 convolution layers** and **at least 2 fully connected layers**. Can you find a network architecture that achieves at least 60% test accuracy. Most of the points for this problem are based on having a model that meets the minimum layer requirements, with fewer points focusing on the accuracy.\n",
        "\n",
        "*Implementation details/notes*:\n",
        "* For simplicity, your model should be able to be trained with the same learning rate and optimizer as the other models. This is a restriction that is not normal in real-practice, but we want you to follow this to simplify the code and our grading. \n",
        "* Every convolution operation should be followed by a pooling operation. \n",
        "* Every linear layer and convolution layer should have an activation function. Exception is the last layer which is connected to the classes via the Softmax Activation Function.\n",
        "* You will likely want to use `NetC` as a starting point! \n",
        "* It is not required, but it might help to make your code more modular by adding parameters to the funciton to specify numbers that contain details about the architecture. Then you can automate trying many different settings of these hyper-parameters. "
      ]
    },
    {
      "cell_type": "code",
      "metadata": {
        "id": "P3OBiQ0abFlw",
        "colab_type": "code",
        "colab": {}
      },
      "source": [
        "# TODO\n",
        "# Write definitions for the 4 models. Write the definition cleanly with a label in a separate cell. \n",
        "# To run initialize it multiple times you might want to define functions like:\n",
        "\n",
        "def net():\n",
        "  model = Sequential([Flatten(), Dense(NUM_CLASSES)])\n",
        "  return(model)\n"
      ],
      "execution_count": 0,
      "outputs": []
    },
    {
      "cell_type": "code",
      "metadata": {
        "id": "o1jGqBiDvS5u",
        "colab_type": "code",
        "colab": {}
      },
      "source": [
        "# model A\n",
        "def netA():\n",
        "  model = Sequential([Flatten(),\n",
        "                      Dense(NUM_CLASSES, activation='softmax')])\n",
        "  return(model)"
      ],
      "execution_count": 0,
      "outputs": []
    },
    {
      "cell_type": "code",
      "metadata": {
        "id": "mLq44xirvuK9",
        "colab_type": "code",
        "colab": {}
      },
      "source": [
        "# model B\n",
        "def netB():\n",
        "  model = Sequential([Flatten(),\n",
        "                      Dense(300, activation='relu'),\n",
        "                      Dense(NUM_CLASSES, activation='softmax')])\n",
        "  return(model)"
      ],
      "execution_count": 0,
      "outputs": []
    },
    {
      "cell_type": "code",
      "metadata": {
        "id": "BarRZ43npSOr",
        "colab_type": "code",
        "colab": {}
      },
      "source": [
        "# model C\n",
        "def netC():\n",
        "  model = Sequential([Conv2D(filters=25, kernel_size=5, padding='same', activation='relu'), \n",
        "                      MaxPooling2D(pool_size=(2, 2), strides=2), \n",
        "                      Flatten(),\n",
        "                      Dense(NUM_CLASSES, activation='softmax')])\n",
        "  return(model)"
      ],
      "execution_count": 0,
      "outputs": []
    },
    {
      "cell_type": "code",
      "metadata": {
        "id": "u8g89pwhyJoh",
        "colab_type": "code",
        "colab": {}
      },
      "source": [
        "# model D\n",
        "def netD():\n",
        "  model = Sequential([Conv2D(filters=128, kernel_size=3, padding='same', activation='relu'), \n",
        "                      MaxPooling2D(pool_size=(2, 2)), \n",
        "                      Conv2D(filters=256, kernel_size=3, padding='same', activation='relu'), \n",
        "                      MaxPooling2D(pool_size=(2, 2)), \n",
        "                      Dropout(0.25),\n",
        "                      Conv2D(filters=512, kernel_size=3, padding='same', activation='relu'), \n",
        "                      MaxPooling2D(pool_size=(2, 2)), \n",
        "                      Conv2D(filters=1024, kernel_size=3, padding='same', activation='relu'), \n",
        "                      MaxPooling2D(pool_size=(2, 2)), \n",
        "                      Dropout(0.25),\n",
        "                      Flatten(),\n",
        "                      Dense(1024, activation='relu'),\n",
        "                      Dropout(0.5),\n",
        "                      Dense(2048, activation='relu'),\n",
        "                      Dropout(0.5),\n",
        "                      Dense(NUM_CLASSES, activation='softmax')])\n",
        "  return(model)"
      ],
      "execution_count": 0,
      "outputs": []
    },
    {
      "cell_type": "code",
      "metadata": {
        "id": "7ruofIkwAT7J",
        "colab_type": "code",
        "colab": {
          "base_uri": "https://localhost:8080/",
          "height": 374
        },
        "outputId": "88d12519-42a7-4cd7-da06-821b2d39832e"
      },
      "source": [
        "model, history = train_model(net(), x_train, y_train, x_val, y_val)"
      ],
      "execution_count": 13,
      "outputs": [
        {
          "output_type": "stream",
          "text": [
            "Train on 40000 samples, validate on 10000 samples\n",
            "Epoch 1/10\n",
            "40000/40000 [==============================] - 7s 171us/step - loss: 8.0773 - accuracy: 0.0878 - val_loss: 8.0349 - val_accuracy: 0.0850\n",
            "Epoch 2/10\n",
            "40000/40000 [==============================] - 5s 128us/step - loss: 7.9672 - accuracy: 0.0891 - val_loss: 8.0349 - val_accuracy: 0.0850\n",
            "Epoch 3/10\n",
            "40000/40000 [==============================] - 5s 127us/step - loss: 7.9672 - accuracy: 0.0891 - val_loss: 8.0349 - val_accuracy: 0.0850\n",
            "Epoch 4/10\n",
            "40000/40000 [==============================] - 5s 126us/step - loss: 7.9672 - accuracy: 0.0891 - val_loss: 8.0349 - val_accuracy: 0.0850\n",
            "Epoch 5/10\n",
            "40000/40000 [==============================] - 5s 127us/step - loss: 7.9672 - accuracy: 0.0891 - val_loss: 8.0349 - val_accuracy: 0.0850\n",
            "Epoch 6/10\n",
            "40000/40000 [==============================] - 5s 128us/step - loss: 7.9672 - accuracy: 0.0891 - val_loss: 8.0349 - val_accuracy: 0.0850\n",
            "Epoch 7/10\n",
            "40000/40000 [==============================] - 5s 127us/step - loss: 7.9672 - accuracy: 0.0891 - val_loss: 8.0349 - val_accuracy: 0.0850\n",
            "Epoch 8/10\n",
            "40000/40000 [==============================] - 5s 126us/step - loss: 7.9672 - accuracy: 0.0891 - val_loss: 8.0349 - val_accuracy: 0.0850\n",
            "Epoch 9/10\n",
            "40000/40000 [==============================] - 5s 127us/step - loss: 7.9672 - accuracy: 0.0891 - val_loss: 8.0349 - val_accuracy: 0.0850\n",
            "Epoch 10/10\n",
            "40000/40000 [==============================] - 5s 126us/step - loss: 7.9672 - accuracy: 0.0891 - val_loss: 8.0349 - val_accuracy: 0.0850\n"
          ],
          "name": "stdout"
        }
      ]
    },
    {
      "cell_type": "code",
      "metadata": {
        "id": "sA5E60GM9HiD",
        "colab_type": "code",
        "colab": {
          "base_uri": "https://localhost:8080/",
          "height": 374
        },
        "outputId": "21be6ece-bc3a-4ef9-9660-1a138e724507"
      },
      "source": [
        "modelA, historyA = train_model(netA(), x_train, y_train, x_val, y_val)"
      ],
      "execution_count": 14,
      "outputs": [
        {
          "output_type": "stream",
          "text": [
            "Train on 40000 samples, validate on 10000 samples\n",
            "Epoch 1/10\n",
            "40000/40000 [==============================] - 5s 128us/step - loss: 2.0043 - accuracy: 0.2829 - val_loss: 1.9179 - val_accuracy: 0.3202\n",
            "Epoch 2/10\n",
            "40000/40000 [==============================] - 5s 124us/step - loss: 1.8696 - accuracy: 0.3434 - val_loss: 1.8653 - val_accuracy: 0.3467\n",
            "Epoch 3/10\n",
            "40000/40000 [==============================] - 5s 124us/step - loss: 1.8313 - accuracy: 0.3594 - val_loss: 1.8403 - val_accuracy: 0.3555\n",
            "Epoch 4/10\n",
            "40000/40000 [==============================] - 5s 126us/step - loss: 1.8093 - accuracy: 0.3690 - val_loss: 1.8247 - val_accuracy: 0.3611\n",
            "Epoch 5/10\n",
            "40000/40000 [==============================] - 5s 125us/step - loss: 1.7939 - accuracy: 0.3750 - val_loss: 1.8138 - val_accuracy: 0.3643\n",
            "Epoch 6/10\n",
            "40000/40000 [==============================] - 5s 126us/step - loss: 1.7822 - accuracy: 0.3808 - val_loss: 1.8054 - val_accuracy: 0.3673\n",
            "Epoch 7/10\n",
            "40000/40000 [==============================] - 5s 124us/step - loss: 1.7728 - accuracy: 0.3853 - val_loss: 1.7987 - val_accuracy: 0.3702\n",
            "Epoch 8/10\n",
            "40000/40000 [==============================] - 5s 125us/step - loss: 1.7648 - accuracy: 0.3889 - val_loss: 1.7932 - val_accuracy: 0.3717\n",
            "Epoch 9/10\n",
            "40000/40000 [==============================] - 5s 125us/step - loss: 1.7580 - accuracy: 0.3926 - val_loss: 1.7886 - val_accuracy: 0.3731\n",
            "Epoch 10/10\n",
            "40000/40000 [==============================] - 5s 126us/step - loss: 1.7521 - accuracy: 0.3947 - val_loss: 1.7846 - val_accuracy: 0.3740\n"
          ],
          "name": "stdout"
        }
      ]
    },
    {
      "cell_type": "code",
      "metadata": {
        "id": "0J0v9PLC_UH9",
        "colab_type": "code",
        "colab": {
          "base_uri": "https://localhost:8080/",
          "height": 374
        },
        "outputId": "a118e83a-6d4f-4174-a53b-1b63f2f5546f"
      },
      "source": [
        "modelB, historyB = train_model(netB(), x_train, y_train, x_val, y_val)"
      ],
      "execution_count": 15,
      "outputs": [
        {
          "output_type": "stream",
          "text": [
            "Train on 40000 samples, validate on 10000 samples\n",
            "Epoch 1/10\n",
            "40000/40000 [==============================] - 5s 135us/step - loss: 1.9148 - accuracy: 0.3099 - val_loss: 1.8806 - val_accuracy: 0.3209\n",
            "Epoch 2/10\n",
            "40000/40000 [==============================] - 5s 134us/step - loss: 1.7396 - accuracy: 0.3831 - val_loss: 1.7743 - val_accuracy: 0.3593\n",
            "Epoch 3/10\n",
            "40000/40000 [==============================] - 5s 134us/step - loss: 1.6618 - accuracy: 0.4124 - val_loss: 1.7176 - val_accuracy: 0.3816\n",
            "Epoch 4/10\n",
            "40000/40000 [==============================] - 5s 137us/step - loss: 1.6095 - accuracy: 0.4319 - val_loss: 1.6914 - val_accuracy: 0.3920\n",
            "Epoch 5/10\n",
            "40000/40000 [==============================] - 5s 135us/step - loss: 1.5679 - accuracy: 0.4480 - val_loss: 1.6667 - val_accuracy: 0.4039\n",
            "Epoch 6/10\n",
            "40000/40000 [==============================] - 5s 135us/step - loss: 1.5350 - accuracy: 0.4589 - val_loss: 1.6428 - val_accuracy: 0.4119\n",
            "Epoch 7/10\n",
            "40000/40000 [==============================] - 5s 136us/step - loss: 1.5042 - accuracy: 0.4718 - val_loss: 1.6126 - val_accuracy: 0.4235\n",
            "Epoch 8/10\n",
            "40000/40000 [==============================] - 6s 138us/step - loss: 1.4773 - accuracy: 0.4816 - val_loss: 1.6113 - val_accuracy: 0.4257\n",
            "Epoch 9/10\n",
            "40000/40000 [==============================] - 5s 137us/step - loss: 1.4522 - accuracy: 0.4914 - val_loss: 1.5965 - val_accuracy: 0.4318\n",
            "Epoch 10/10\n",
            "40000/40000 [==============================] - 6s 139us/step - loss: 1.4294 - accuracy: 0.5003 - val_loss: 1.5797 - val_accuracy: 0.4357\n"
          ],
          "name": "stdout"
        }
      ]
    },
    {
      "cell_type": "code",
      "metadata": {
        "id": "MBnhObAxC-eb",
        "colab_type": "code",
        "colab": {
          "base_uri": "https://localhost:8080/",
          "height": 374
        },
        "outputId": "c5f81852-c90c-46d0-e42d-0bdaf64ccd59"
      },
      "source": [
        "modelC, historyC = train_model(netC(), x_train, y_train, x_val, y_val)"
      ],
      "execution_count": 16,
      "outputs": [
        {
          "output_type": "stream",
          "text": [
            "Train on 40000 samples, validate on 10000 samples\n",
            "Epoch 1/10\n",
            "40000/40000 [==============================] - 10s 261us/step - loss: 1.8858 - accuracy: 0.3381 - val_loss: 1.7348 - val_accuracy: 0.3905\n",
            "Epoch 2/10\n",
            "40000/40000 [==============================] - 6s 152us/step - loss: 1.6544 - accuracy: 0.4271 - val_loss: 1.5958 - val_accuracy: 0.4405\n",
            "Epoch 3/10\n",
            "40000/40000 [==============================] - 6s 151us/step - loss: 1.5403 - accuracy: 0.4690 - val_loss: 1.5057 - val_accuracy: 0.4698\n",
            "Epoch 4/10\n",
            "40000/40000 [==============================] - 6s 151us/step - loss: 1.4629 - accuracy: 0.4945 - val_loss: 1.4449 - val_accuracy: 0.4953\n",
            "Epoch 5/10\n",
            "40000/40000 [==============================] - 6s 150us/step - loss: 1.4083 - accuracy: 0.5132 - val_loss: 1.4025 - val_accuracy: 0.5086\n",
            "Epoch 6/10\n",
            "40000/40000 [==============================] - 6s 152us/step - loss: 1.3682 - accuracy: 0.5266 - val_loss: 1.3720 - val_accuracy: 0.5174\n",
            "Epoch 7/10\n",
            "40000/40000 [==============================] - 6s 150us/step - loss: 1.3372 - accuracy: 0.5385 - val_loss: 1.3490 - val_accuracy: 0.5250\n",
            "Epoch 8/10\n",
            "40000/40000 [==============================] - 6s 150us/step - loss: 1.3122 - accuracy: 0.5472 - val_loss: 1.3306 - val_accuracy: 0.5305\n",
            "Epoch 9/10\n",
            "40000/40000 [==============================] - 6s 157us/step - loss: 1.2911 - accuracy: 0.5542 - val_loss: 1.3149 - val_accuracy: 0.5352\n",
            "Epoch 10/10\n",
            "40000/40000 [==============================] - 6s 149us/step - loss: 1.2726 - accuracy: 0.5604 - val_loss: 1.3013 - val_accuracy: 0.5383\n"
          ],
          "name": "stdout"
        }
      ]
    },
    {
      "cell_type": "code",
      "metadata": {
        "id": "2vtT5nh6D-8i",
        "colab_type": "code",
        "colab": {
          "base_uri": "https://localhost:8080/",
          "height": 374
        },
        "outputId": "9b960604-0dbb-4422-fc43-4cb6f712315c"
      },
      "source": [
        "modelD, historyD = train_model(netD(), x_train, y_train, x_val, y_val)"
      ],
      "execution_count": 17,
      "outputs": [
        {
          "output_type": "stream",
          "text": [
            "Train on 40000 samples, validate on 10000 samples\n",
            "Epoch 1/10\n",
            "40000/40000 [==============================] - 21s 528us/step - loss: 1.7710 - accuracy: 0.3356 - val_loss: 1.4247 - val_accuracy: 0.4627\n",
            "Epoch 2/10\n",
            "40000/40000 [==============================] - 20s 500us/step - loss: 1.2954 - accuracy: 0.5257 - val_loss: 1.1186 - val_accuracy: 0.5863\n",
            "Epoch 3/10\n",
            "40000/40000 [==============================] - 20s 502us/step - loss: 1.0497 - accuracy: 0.6260 - val_loss: 0.9676 - val_accuracy: 0.6496\n",
            "Epoch 4/10\n",
            "40000/40000 [==============================] - 20s 502us/step - loss: 0.8693 - accuracy: 0.6979 - val_loss: 0.8564 - val_accuracy: 0.7014\n",
            "Epoch 5/10\n",
            "40000/40000 [==============================] - 20s 500us/step - loss: 0.7303 - accuracy: 0.7459 - val_loss: 0.7876 - val_accuracy: 0.7390\n",
            "Epoch 6/10\n",
            "40000/40000 [==============================] - 20s 502us/step - loss: 0.6151 - accuracy: 0.7877 - val_loss: 0.7945 - val_accuracy: 0.7417\n",
            "Epoch 7/10\n",
            "40000/40000 [==============================] - 20s 499us/step - loss: 0.5232 - accuracy: 0.8217 - val_loss: 0.8050 - val_accuracy: 0.7506\n",
            "Epoch 8/10\n",
            "40000/40000 [==============================] - 20s 500us/step - loss: 0.4439 - accuracy: 0.8493 - val_loss: 0.8489 - val_accuracy: 0.7552\n",
            "Epoch 9/10\n",
            "40000/40000 [==============================] - 20s 500us/step - loss: 0.3782 - accuracy: 0.8723 - val_loss: 0.8936 - val_accuracy: 0.7480\n",
            "Epoch 10/10\n",
            "40000/40000 [==============================] - 20s 502us/step - loss: 0.3266 - accuracy: 0.8895 - val_loss: 0.8179 - val_accuracy: 0.7729\n"
          ],
          "name": "stdout"
        }
      ]
    },
    {
      "cell_type": "markdown",
      "metadata": {
        "id": "4Rm79XU_ENo8",
        "colab_type": "text"
      },
      "source": [
        "**Gradescope Q1** \n",
        "\n",
        "Use the `model.summary` function to extract how many parameters models A, B, C have. Enter the numbers on Gradescope."
      ]
    },
    {
      "cell_type": "code",
      "metadata": {
        "id": "lTkxaRLq__yI",
        "colab_type": "code",
        "colab": {
          "base_uri": "https://localhost:8080/",
          "height": 1000
        },
        "outputId": "b4603d34-d08d-4781-dfd2-e8c422e1b162"
      },
      "source": [
        "print(model.summary())\n",
        "print(modelA.summary())\n",
        "print(modelB.summary())\n",
        "print(modelC.summary())\n",
        "print(modelD.summary())"
      ],
      "execution_count": 18,
      "outputs": [
        {
          "output_type": "stream",
          "text": [
            "Model: \"sequential_1\"\n",
            "_________________________________________________________________\n",
            "Layer (type)                 Output Shape              Param #   \n",
            "=================================================================\n",
            "flatten_1 (Flatten)          (None, 3072)              0         \n",
            "_________________________________________________________________\n",
            "dense_1 (Dense)              (None, 10)                30730     \n",
            "=================================================================\n",
            "Total params: 30,730\n",
            "Trainable params: 30,730\n",
            "Non-trainable params: 0\n",
            "_________________________________________________________________\n",
            "None\n",
            "Model: \"sequential_2\"\n",
            "_________________________________________________________________\n",
            "Layer (type)                 Output Shape              Param #   \n",
            "=================================================================\n",
            "flatten_2 (Flatten)          (None, 3072)              0         \n",
            "_________________________________________________________________\n",
            "dense_2 (Dense)              (None, 10)                30730     \n",
            "=================================================================\n",
            "Total params: 30,730\n",
            "Trainable params: 30,730\n",
            "Non-trainable params: 0\n",
            "_________________________________________________________________\n",
            "None\n",
            "Model: \"sequential_3\"\n",
            "_________________________________________________________________\n",
            "Layer (type)                 Output Shape              Param #   \n",
            "=================================================================\n",
            "flatten_3 (Flatten)          (None, 3072)              0         \n",
            "_________________________________________________________________\n",
            "dense_3 (Dense)              (None, 300)               921900    \n",
            "_________________________________________________________________\n",
            "dense_4 (Dense)              (None, 10)                3010      \n",
            "=================================================================\n",
            "Total params: 924,910\n",
            "Trainable params: 924,910\n",
            "Non-trainable params: 0\n",
            "_________________________________________________________________\n",
            "None\n",
            "Model: \"sequential_4\"\n",
            "_________________________________________________________________\n",
            "Layer (type)                 Output Shape              Param #   \n",
            "=================================================================\n",
            "conv2d_1 (Conv2D)            (None, 32, 32, 25)        1900      \n",
            "_________________________________________________________________\n",
            "max_pooling2d_1 (MaxPooling2 (None, 16, 16, 25)        0         \n",
            "_________________________________________________________________\n",
            "flatten_4 (Flatten)          (None, 6400)              0         \n",
            "_________________________________________________________________\n",
            "dense_5 (Dense)              (None, 10)                64010     \n",
            "=================================================================\n",
            "Total params: 65,910\n",
            "Trainable params: 65,910\n",
            "Non-trainable params: 0\n",
            "_________________________________________________________________\n",
            "None\n",
            "Model: \"sequential_5\"\n",
            "_________________________________________________________________\n",
            "Layer (type)                 Output Shape              Param #   \n",
            "=================================================================\n",
            "conv2d_2 (Conv2D)            (None, 32, 32, 128)       3584      \n",
            "_________________________________________________________________\n",
            "max_pooling2d_2 (MaxPooling2 (None, 16, 16, 128)       0         \n",
            "_________________________________________________________________\n",
            "conv2d_3 (Conv2D)            (None, 16, 16, 256)       295168    \n",
            "_________________________________________________________________\n",
            "max_pooling2d_3 (MaxPooling2 (None, 8, 8, 256)         0         \n",
            "_________________________________________________________________\n",
            "dropout_1 (Dropout)          (None, 8, 8, 256)         0         \n",
            "_________________________________________________________________\n",
            "conv2d_4 (Conv2D)            (None, 8, 8, 512)         1180160   \n",
            "_________________________________________________________________\n",
            "max_pooling2d_4 (MaxPooling2 (None, 4, 4, 512)         0         \n",
            "_________________________________________________________________\n",
            "conv2d_5 (Conv2D)            (None, 4, 4, 1024)        4719616   \n",
            "_________________________________________________________________\n",
            "max_pooling2d_5 (MaxPooling2 (None, 2, 2, 1024)        0         \n",
            "_________________________________________________________________\n",
            "dropout_2 (Dropout)          (None, 2, 2, 1024)        0         \n",
            "_________________________________________________________________\n",
            "flatten_5 (Flatten)          (None, 4096)              0         \n",
            "_________________________________________________________________\n",
            "dense_6 (Dense)              (None, 1024)              4195328   \n",
            "_________________________________________________________________\n",
            "dropout_3 (Dropout)          (None, 1024)              0         \n",
            "_________________________________________________________________\n",
            "dense_7 (Dense)              (None, 2048)              2099200   \n",
            "_________________________________________________________________\n",
            "dropout_4 (Dropout)          (None, 2048)              0         \n",
            "_________________________________________________________________\n",
            "dense_8 (Dense)              (None, 10)                20490     \n",
            "=================================================================\n",
            "Total params: 12,513,546\n",
            "Trainable params: 12,513,546\n",
            "Non-trainable params: 0\n",
            "_________________________________________________________________\n",
            "None\n"
          ],
          "name": "stdout"
        }
      ]
    },
    {
      "cell_type": "markdown",
      "metadata": {
        "id": "eZMkmTNkrqWx",
        "colab_type": "text"
      },
      "source": [
        "## STEP 3 \n",
        "Now it is time to use these models to loop through all the four models and store and compare their training performance. After training each model display the test accuracy. "
      ]
    },
    {
      "cell_type": "code",
      "metadata": {
        "id": "J7Fe8q-o9mdx",
        "colab_type": "code",
        "colab": {
          "base_uri": "https://localhost:8080/",
          "height": 1000
        },
        "outputId": "83ceea48-38f2-4a23-c973-ace596223e29"
      },
      "source": [
        "# TODO\n",
        "# write a loop to train all 4 models and save the history in a list/dictionary.\n",
        "# print out the test accuracy for each model\n",
        "nets=[netA(),netB(),netC(),netD()]\n",
        "histories=[]\n",
        "for i in range(0,4):\n",
        "  m, h = train_model(nets[i], x_train, y_train, x_val, y_val)\n",
        "  histories.append(h)\n",
        "  test_score = m.evaluate(x_test, y_test)\n",
        "  print(\"test_loss:\", test_score[0],\"- test_accuracy:\", test_score[1],\"\\n\")"
      ],
      "execution_count": 19,
      "outputs": [
        {
          "output_type": "stream",
          "text": [
            "Train on 40000 samples, validate on 10000 samples\n",
            "Epoch 1/10\n",
            "40000/40000 [==============================] - 5s 127us/step - loss: 2.0029 - accuracy: 0.2833 - val_loss: 1.9169 - val_accuracy: 0.3224\n",
            "Epoch 2/10\n",
            "40000/40000 [==============================] - 5s 126us/step - loss: 1.8703 - accuracy: 0.3426 - val_loss: 1.8648 - val_accuracy: 0.3470\n",
            "Epoch 3/10\n",
            "40000/40000 [==============================] - 5s 126us/step - loss: 1.8323 - accuracy: 0.3591 - val_loss: 1.8397 - val_accuracy: 0.3549\n",
            "Epoch 4/10\n",
            "40000/40000 [==============================] - 5s 126us/step - loss: 1.8103 - accuracy: 0.3704 - val_loss: 1.8240 - val_accuracy: 0.3625\n",
            "Epoch 5/10\n",
            "40000/40000 [==============================] - 5s 124us/step - loss: 1.7949 - accuracy: 0.3770 - val_loss: 1.8129 - val_accuracy: 0.3672\n",
            "Epoch 6/10\n",
            "40000/40000 [==============================] - 5s 125us/step - loss: 1.7832 - accuracy: 0.3821 - val_loss: 1.8045 - val_accuracy: 0.3695\n",
            "Epoch 7/10\n",
            "40000/40000 [==============================] - 5s 125us/step - loss: 1.7737 - accuracy: 0.3860 - val_loss: 1.7978 - val_accuracy: 0.3720\n",
            "Epoch 8/10\n",
            "40000/40000 [==============================] - 5s 124us/step - loss: 1.7658 - accuracy: 0.3899 - val_loss: 1.7923 - val_accuracy: 0.3744\n",
            "Epoch 9/10\n",
            "40000/40000 [==============================] - 5s 124us/step - loss: 1.7589 - accuracy: 0.3920 - val_loss: 1.7877 - val_accuracy: 0.3763\n",
            "Epoch 10/10\n",
            "40000/40000 [==============================] - 5s 126us/step - loss: 1.7529 - accuracy: 0.3949 - val_loss: 1.7838 - val_accuracy: 0.3775\n",
            "10000/10000 [==============================] - 1s 78us/step\n",
            "test_loss: 1.7840905431747436 - test_accuracy: 0.3734999895095825 \n",
            "\n",
            "Train on 40000 samples, validate on 10000 samples\n",
            "Epoch 1/10\n",
            "40000/40000 [==============================] - 5s 136us/step - loss: 1.9035 - accuracy: 0.3143 - val_loss: 1.8745 - val_accuracy: 0.3300\n",
            "Epoch 2/10\n",
            "40000/40000 [==============================] - 5s 135us/step - loss: 1.7291 - accuracy: 0.3864 - val_loss: 1.7872 - val_accuracy: 0.3551\n",
            "Epoch 3/10\n",
            "40000/40000 [==============================] - 5s 136us/step - loss: 1.6515 - accuracy: 0.4180 - val_loss: 1.7365 - val_accuracy: 0.3740\n",
            "Epoch 4/10\n",
            "40000/40000 [==============================] - 5s 134us/step - loss: 1.5978 - accuracy: 0.4372 - val_loss: 1.7127 - val_accuracy: 0.3845\n",
            "Epoch 5/10\n",
            "40000/40000 [==============================] - 5s 136us/step - loss: 1.5562 - accuracy: 0.4527 - val_loss: 1.6870 - val_accuracy: 0.3935\n",
            "Epoch 6/10\n",
            "40000/40000 [==============================] - 5s 135us/step - loss: 1.5209 - accuracy: 0.4651 - val_loss: 1.6499 - val_accuracy: 0.4086\n",
            "Epoch 7/10\n",
            "40000/40000 [==============================] - 5s 135us/step - loss: 1.4912 - accuracy: 0.4764 - val_loss: 1.6325 - val_accuracy: 0.4148\n",
            "Epoch 8/10\n",
            "40000/40000 [==============================] - 6s 142us/step - loss: 1.4632 - accuracy: 0.4856 - val_loss: 1.6227 - val_accuracy: 0.4201\n",
            "Epoch 9/10\n",
            "40000/40000 [==============================] - 5s 137us/step - loss: 1.4383 - accuracy: 0.4968 - val_loss: 1.6049 - val_accuracy: 0.4243\n",
            "Epoch 10/10\n",
            "40000/40000 [==============================] - 5s 135us/step - loss: 1.4148 - accuracy: 0.5042 - val_loss: 1.5994 - val_accuracy: 0.4274\n",
            "10000/10000 [==============================] - 1s 79us/step\n",
            "test_loss: 1.6004231103897095 - test_accuracy: 0.42899999022483826 \n",
            "\n",
            "Train on 40000 samples, validate on 10000 samples\n",
            "Epoch 1/10\n",
            "40000/40000 [==============================] - 6s 148us/step - loss: 1.8878 - accuracy: 0.3402 - val_loss: 1.7336 - val_accuracy: 0.3904\n",
            "Epoch 2/10\n",
            "40000/40000 [==============================] - 6s 151us/step - loss: 1.6514 - accuracy: 0.4314 - val_loss: 1.5954 - val_accuracy: 0.4402\n",
            "Epoch 3/10\n",
            "40000/40000 [==============================] - 6s 157us/step - loss: 1.5401 - accuracy: 0.4666 - val_loss: 1.5097 - val_accuracy: 0.4629\n",
            "Epoch 4/10\n",
            "40000/40000 [==============================] - 6s 148us/step - loss: 1.4659 - accuracy: 0.4900 - val_loss: 1.4539 - val_accuracy: 0.4822\n",
            "Epoch 5/10\n",
            "40000/40000 [==============================] - 6s 146us/step - loss: 1.4144 - accuracy: 0.5077 - val_loss: 1.4157 - val_accuracy: 0.4956\n",
            "Epoch 6/10\n",
            "40000/40000 [==============================] - 6s 149us/step - loss: 1.3765 - accuracy: 0.5198 - val_loss: 1.3878 - val_accuracy: 0.5082\n",
            "Epoch 7/10\n",
            "40000/40000 [==============================] - 6s 147us/step - loss: 1.3468 - accuracy: 0.5300 - val_loss: 1.3662 - val_accuracy: 0.5158\n",
            "Epoch 8/10\n",
            "40000/40000 [==============================] - 6s 148us/step - loss: 1.3222 - accuracy: 0.5397 - val_loss: 1.3485 - val_accuracy: 0.5228\n",
            "Epoch 9/10\n",
            "40000/40000 [==============================] - 6s 149us/step - loss: 1.3013 - accuracy: 0.5472 - val_loss: 1.3334 - val_accuracy: 0.5284\n",
            "Epoch 10/10\n",
            "40000/40000 [==============================] - 6s 149us/step - loss: 1.2829 - accuracy: 0.5542 - val_loss: 1.3202 - val_accuracy: 0.5313\n",
            "10000/10000 [==============================] - 1s 85us/step\n",
            "test_loss: 1.3266796842575073 - test_accuracy: 0.5278000235557556 \n",
            "\n",
            "Train on 40000 samples, validate on 10000 samples\n",
            "Epoch 1/10\n",
            "40000/40000 [==============================] - 20s 509us/step - loss: 1.7774 - accuracy: 0.3347 - val_loss: 1.4151 - val_accuracy: 0.4656\n",
            "Epoch 2/10\n",
            "40000/40000 [==============================] - 20s 503us/step - loss: 1.3192 - accuracy: 0.5206 - val_loss: 1.1109 - val_accuracy: 0.5891\n",
            "Epoch 3/10\n",
            "40000/40000 [==============================] - 20s 502us/step - loss: 1.0664 - accuracy: 0.6187 - val_loss: 0.9986 - val_accuracy: 0.6420\n",
            "Epoch 4/10\n",
            "40000/40000 [==============================] - 20s 501us/step - loss: 0.8803 - accuracy: 0.6914 - val_loss: 0.8634 - val_accuracy: 0.6997\n",
            "Epoch 5/10\n",
            "40000/40000 [==============================] - 20s 501us/step - loss: 0.7375 - accuracy: 0.7450 - val_loss: 0.9074 - val_accuracy: 0.6960\n",
            "Epoch 6/10\n",
            "40000/40000 [==============================] - 20s 501us/step - loss: 0.6251 - accuracy: 0.7874 - val_loss: 0.7735 - val_accuracy: 0.7489\n",
            "Epoch 7/10\n",
            "40000/40000 [==============================] - 20s 500us/step - loss: 0.5304 - accuracy: 0.8198 - val_loss: 0.7330 - val_accuracy: 0.7687\n",
            "Epoch 8/10\n",
            "40000/40000 [==============================] - 20s 502us/step - loss: 0.4511 - accuracy: 0.8484 - val_loss: 0.8794 - val_accuracy: 0.7287\n",
            "Epoch 9/10\n",
            "40000/40000 [==============================] - 20s 506us/step - loss: 0.3857 - accuracy: 0.8709 - val_loss: 0.8710 - val_accuracy: 0.7612\n",
            "Epoch 10/10\n",
            "40000/40000 [==============================] - 20s 507us/step - loss: 0.3313 - accuracy: 0.8898 - val_loss: 0.8447 - val_accuracy: 0.7691\n",
            "10000/10000 [==============================] - 2s 171us/step\n",
            "test_loss: 0.8741103702545167 - test_accuracy: 0.7706000208854675 \n",
            "\n"
          ],
          "name": "stdout"
        }
      ]
    },
    {
      "cell_type": "markdown",
      "metadata": {
        "id": "uUbBbh6WF3cC",
        "colab_type": "text"
      },
      "source": [
        "**Gradescope Q2** \n",
        "\n",
        "Enter the test accuracies for each model on Gradescope."
      ]
    },
    {
      "cell_type": "markdown",
      "metadata": {
        "id": "PodjaUcACFAJ",
        "colab_type": "text"
      },
      "source": [
        "Explore the history object for the models, and extract the train and validation accuracies. Plot them on the same graph with respect to changing epochs with the corresponding legend."
      ]
    },
    {
      "cell_type": "code",
      "metadata": {
        "id": "RIYoeHmXbbKu",
        "colab_type": "code",
        "colab": {
          "base_uri": "https://localhost:8080/",
          "height": 34
        },
        "outputId": "2f255c66-fdcd-427f-8a05-de03f874381e"
      },
      "source": [
        "# TODO\n",
        "# plot all 4 validation accuracies and train accuracies on the same plot with an appropriate legend \n",
        "# make sure you have different colors for different models\n",
        "# make the the validation dashed line\n",
        "# the axes should be Epochs & Accuracy\n",
        "# you should have total of 8 curves\n",
        "print(histories[0].history.keys())"
      ],
      "execution_count": 20,
      "outputs": [
        {
          "output_type": "stream",
          "text": [
            "dict_keys(['val_loss', 'val_accuracy', 'loss', 'accuracy'])\n"
          ],
          "name": "stdout"
        }
      ]
    },
    {
      "cell_type": "markdown",
      "metadata": {
        "id": "K6_WWAs84Emo",
        "colab_type": "text"
      },
      "source": [
        "The pieces of function below might be helpful, but feel free to create the plot in your way, just following the above rules."
      ]
    },
    {
      "cell_type": "code",
      "metadata": {
        "id": "wqxat8Pi3RVs",
        "colab_type": "code",
        "colab": {
          "base_uri": "https://localhost:8080/",
          "height": 606
        },
        "outputId": "5939adab-1bf3-4928-e878-628f732e55b2"
      },
      "source": [
        "## TODO\n",
        "import matplotlib.pyplot as plt\n",
        "model_labels = 'ABCD'\n",
        "plt.figure(figsize=(16,10))\n",
        "for i in range(0,4):\n",
        "    name = model_labels[i]\n",
        "    val = plt.plot(range(1,11), histories[i].history['val_accuracy'],\n",
        "                   '--', label= name + ' Validation')\n",
        "    plt.plot(range(1,11), histories[i].history['accuracy'],\n",
        "             color=val[0].get_color(),label= name + ' Train')\n",
        "    \n",
        "    plt.xlabel('Epochs')\n",
        "    plt.ylabel('Accuracy')\n",
        "    plt.legend()\n",
        "    plt.xlim([1,NUM_EPOCHS])"
      ],
      "execution_count": 21,
      "outputs": [
        {
          "output_type": "display_data",
          "data": {
            "image/png": "[encoded data removed]",
            "text/plain": [
              "<Figure size 1152x720 with 1 Axes>"
            ]
          },
          "metadata": {
            "tags": [],
            "needs_background": "light"
          }
        }
      ]
    }
  ]
}