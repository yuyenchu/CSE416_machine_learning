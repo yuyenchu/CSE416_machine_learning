{
 "cells": [
  {
   "cell_type": "markdown",
   "metadata": {
    "colab_type": "text",
    "id": "qQhwxRlZoKH5"
   },
   "source": [
    "# Predicting sentiment from product reviews\n",
    "\n",
    "### Due: Wednesday, April 29, at 11:59 pm on Gradescope\n",
    "\n",
    "The goal of this first notebook is to explore logistic regression and feature engineering with sklearn.\n",
    "\n",
    "In this notebook you will use product review data from Amazon.com to predict whether the sentiments about a product (from its reviews) are positive or negative.\n",
    "\n",
    "* Use Pandas Dataframes to do feature engineering\n",
    "* Train a logistic regression model to predict the sentiment of product reviews.\n",
    "* Inspect the weights (coefficients) of a trained logistic regression model.\n",
    "* Make a prediction (both class and probability) of sentiment for a new product review.\n",
    "* Given a classifier, create a confusion matrix\n",
    "* Compare multiple logistic regression models.\n",
    "\n",
    "Copyright ©2020 Emily Fox, Hunter Schafer, Valentina Staneva.  All rights reserved.  Permission is hereby granted to students registered for University of Washington CSE/STAT 416 for use solely during Spring Quarter 2020 for purposes of the course.  No other use, copying, distribution, or modification is permitted without prior written consent. Copyrights for third-party components of this work must be honored.  Instructors interested in reusing these course materials should contact the author.\n"
   ]
  },
  {
   "cell_type": "code",
   "execution_count": 0,
   "metadata": {
    "colab": {},
    "colab_type": "code",
    "id": "vt0PNDxSa0ti"
   },
   "outputs": [],
   "source": [
    "!pip install -q seaborn==0.9.0\n",
    "!pip install -q scikit-learn==0.20.3"
   ]
  },
  {
   "cell_type": "code",
   "execution_count": 0,
   "metadata": {
    "colab": {},
    "colab_type": "code",
    "id": "oI0Mi7T7oKH7"
   },
   "outputs": [],
   "source": [
    "from __future__ import division\n",
    "from sklearn.linear_model import LogisticRegression\n",
    "from sklearn.model_selection import train_test_split\n",
    "from sklearn.feature_extraction import DictVectorizer\n",
    "import pandas as pd\n",
    "import math\n",
    "import string\n",
    "import matplotlib.pyplot as plt\n",
    "import numpy as np\n",
    "import seaborn as sns\n",
    "%matplotlib inline\n",
    "import warnings\n",
    "warnings.filterwarnings('ignore')\n",
    "import os\n",
    "import json\n",
    "import gzip\n",
    "from urllib.request import urlopen"
   ]
  },
  {
   "cell_type": "markdown",
   "metadata": {
    "colab_type": "text",
    "id": "Fy0LtMjloKIA"
   },
   "source": [
    "# Data preparation\n",
    "\n",
    "We will use a dataset consisting of food product reviews on Amazon.com [source](http://jmcauley.ucsd.edu/data/amazon/)."
   ]
  },
  {
   "cell_type": "code",
   "execution_count": 77,
   "metadata": {
    "colab": {
     "base_uri": "https://localhost:8080/",
     "height": 204
    },
    "colab_type": "code",
    "id": "BSrjyLM0rYcY",
    "outputId": "c274bdcb-7318-42e0-8b3c-728f8cd24c10"
   },
   "outputs": [
    {
     "name": "stdout",
     "output_type": "stream",
     "text": [
      "--2020-04-29 09:53:11--  https://raw.githubusercontent.com/valentina-s/cse-stat-416-sp20/master/data/food_products.csv\n",
      "Resolving raw.githubusercontent.com (raw.githubusercontent.com)... 151.101.0.133, 151.101.64.133, 151.101.128.133, ...\n",
      "Connecting to raw.githubusercontent.com (raw.githubusercontent.com)|151.101.0.133|:443... connected.\n",
      "HTTP request sent, awaiting response... 200 OK\n",
      "Length: 1319440 (1.3M) [text/plain]\n",
      "Saving to: ‘food_products.csv.1’\n",
      "\n",
      "\r",
      "food_products.csv.1   0%[                    ]       0  --.-KB/s               \r",
      "food_products.csv.1 100%[===================>]   1.26M  --.-KB/s    in 0.04s   \n",
      "\n",
      "2020-04-29 09:53:11 (29.1 MB/s) - ‘food_products.csv.1’ saved [1319440/1319440]\n",
      "\n"
     ]
    }
   ],
   "source": [
    "!wget https://raw.githubusercontent.com/valentina-s/cse-stat-416-sp20/master/data/food_products.csv"
   ]
  },
  {
   "cell_type": "code",
   "execution_count": 78,
   "metadata": {
    "colab": {
     "base_uri": "https://localhost:8080/",
     "height": 71
    },
    "colab_type": "code",
    "id": "gaNi651vQ7G3",
    "outputId": "3316379e-8ab9-4730-a43d-ceb700b173c7"
   },
   "outputs": [
    {
     "name": "stdout",
     "output_type": "stream",
     "text": [
      "2500\n"
     ]
    },
    {
     "data": {
      "text/plain": [
       "'I found these in a Mitsuwa Marketplace in Illinois.I actually expected them to taste better than the did.  they were okay but seem smaller than standard kit kats and the taste was a tad mild compared to other green tea candies I have tried.But still, they were pleasant enough and nice for a change.'"
      ]
     },
     "execution_count": 78,
     "metadata": {
      "tags": []
     },
     "output_type": "execute_result"
    }
   ],
   "source": [
    "products = pd.read_csv('food_products.csv')\n",
    "print(len(products))\n",
    "products.iloc[1]['review']"
   ]
  },
  {
   "cell_type": "markdown",
   "metadata": {
    "colab_type": "text",
    "id": "38hctA0HoKIC"
   },
   "source": [
    "## Extract sentiments\n",
    "\n",
    "We will **ignore** all reviews with *rating = 3*, since they tend to have a neutral sentiment."
   ]
  },
  {
   "cell_type": "code",
   "execution_count": 79,
   "metadata": {
    "colab": {
     "base_uri": "https://localhost:8080/",
     "height": 34
    },
    "colab_type": "code",
    "id": "Qd_21Ur5oKID",
    "outputId": "387c3890-6756-45af-8198-00dec28dfc49"
   },
   "outputs": [
    {
     "data": {
      "text/plain": [
       "1729"
      ]
     },
     "execution_count": 79,
     "metadata": {
      "tags": []
     },
     "output_type": "execute_result"
    }
   ],
   "source": [
    "products = products[products['rating'] != 3]\n",
    "len(products)"
   ]
  },
  {
   "cell_type": "code",
   "execution_count": 80,
   "metadata": {
    "colab": {
     "base_uri": "https://localhost:8080/",
     "height": 298
    },
    "colab_type": "code",
    "id": "EFWGCzKI6d1S",
    "outputId": "0e986dcd-36cf-4bb4-9df3-8d6d7526d6e9"
   },
   "outputs": [
    {
     "data": {
      "text/plain": [
       "<matplotlib.axes._subplots.AxesSubplot at 0x7f0a8a59f518>"
      ]
     },
     "execution_count": 80,
     "metadata": {
      "tags": []
     },
     "output_type": "execute_result"
    },
    {
     "data": {
      "image/png": "[encoded data removed]",
      "text/plain": [
       "<Figure size 432x288 with 1 Axes>"
      ]
     },
     "metadata": {
      "needs_background": "light",
      "tags": []
     },
     "output_type": "display_data"
    }
   ],
   "source": [
    "plt.title('Number of reviews with a given rating')\n",
    "products['rating'].hist()"
   ]
  },
  {
   "cell_type": "markdown",
   "metadata": {
    "colab_type": "text",
    "id": "FcJISX31oKIE"
   },
   "source": [
    "Now, we will assign reviews with a rating of 4 or higher to be *positive* reviews, while the ones with rating of 2 or lower are *negative*. For the sentiment column, we use +1 for the positive class label and -1 for the negative class label."
   ]
  },
  {
   "cell_type": "code",
   "execution_count": 81,
   "metadata": {
    "colab": {
     "base_uri": "https://localhost:8080/",
     "height": 669
    },
    "colab_type": "code",
    "id": "M5W5A0_foKIF",
    "outputId": "34c0c99f-61f8-49be-a31a-62cb5e2a29e4"
   },
   "outputs": [
    {
     "data": {
      "text/html": [
       "<div>\n",
       "<style scoped>\n",
       "    .dataframe tbody tr th:only-of-type {\n",
       "        vertical-align: middle;\n",
       "    }\n",
       "\n",
       "    .dataframe tbody tr th {\n",
       "        vertical-align: top;\n",
       "    }\n",
       "\n",
       "    .dataframe thead th {\n",
       "        text-align: right;\n",
       "    }\n",
       "</style>\n",
       "<table border=\"1\" class=\"dataframe\">\n",
       "  <thead>\n",
       "    <tr style=\"text-align: right;\">\n",
       "      <th></th>\n",
       "      <th>Unnamed: 0</th>\n",
       "      <th>summary</th>\n",
       "      <th>review</th>\n",
       "      <th>rating</th>\n",
       "      <th>sentiment</th>\n",
       "    </tr>\n",
       "  </thead>\n",
       "  <tbody>\n",
       "    <tr>\n",
       "      <th>2</th>\n",
       "      <td>9</td>\n",
       "      <td>Not a fan</td>\n",
       "      <td>I love green tea, I love Kit Kats, but the two...</td>\n",
       "      <td>1.0</td>\n",
       "      <td>-1</td>\n",
       "    </tr>\n",
       "    <tr>\n",
       "      <th>4</th>\n",
       "      <td>20</td>\n",
       "      <td>Thai curry is the way to go to add spice to an...</td>\n",
       "      <td>So many flavors. I can't begin to tell you how...</td>\n",
       "      <td>5.0</td>\n",
       "      <td>1</td>\n",
       "    </tr>\n",
       "    <tr>\n",
       "      <th>5</th>\n",
       "      <td>28</td>\n",
       "      <td>Delicious</td>\n",
       "      <td>I have tried all the curris from Mae Ploy (exc...</td>\n",
       "      <td>5.0</td>\n",
       "      <td>1</td>\n",
       "    </tr>\n",
       "    <tr>\n",
       "      <th>7</th>\n",
       "      <td>32</td>\n",
       "      <td>Not natural/organic at all</td>\n",
       "      <td>This product is no where near natural / organi...</td>\n",
       "      <td>1.0</td>\n",
       "      <td>-1</td>\n",
       "    </tr>\n",
       "    <tr>\n",
       "      <th>9</th>\n",
       "      <td>46</td>\n",
       "      <td>They work well enough.</td>\n",
       "      <td>There's a vague taste of apple cinnamon, but m...</td>\n",
       "      <td>4.0</td>\n",
       "      <td>1</td>\n",
       "    </tr>\n",
       "    <tr>\n",
       "      <th>11</th>\n",
       "      <td>49</td>\n",
       "      <td>Lessens the effects of an asthma attack</td>\n",
       "      <td>If my wife drinks a cup of this tea when she f...</td>\n",
       "      <td>5.0</td>\n",
       "      <td>1</td>\n",
       "    </tr>\n",
       "    <tr>\n",
       "      <th>13</th>\n",
       "      <td>54</td>\n",
       "      <td>Dark Chocolate Toffee Nut - fantastic flavor! ...</td>\n",
       "      <td>I really enjoy PowerBar ProteinPlus bars - but...</td>\n",
       "      <td>5.0</td>\n",
       "      <td>1</td>\n",
       "    </tr>\n",
       "    <tr>\n",
       "      <th>15</th>\n",
       "      <td>63</td>\n",
       "      <td>Nostalgia</td>\n",
       "      <td>I was born in the 80's, and this was brought i...</td>\n",
       "      <td>5.0</td>\n",
       "      <td>1</td>\n",
       "    </tr>\n",
       "    <tr>\n",
       "      <th>16</th>\n",
       "      <td>65</td>\n",
       "      <td>great</td>\n",
       "      <td>my niece teaches underprivileged kids in flori...</td>\n",
       "      <td>5.0</td>\n",
       "      <td>1</td>\n",
       "    </tr>\n",
       "    <tr>\n",
       "      <th>17</th>\n",
       "      <td>75</td>\n",
       "      <td>Not soft at all. Basically same as cheap licor...</td>\n",
       "      <td>Licorice is my favorite candy, and it promotes...</td>\n",
       "      <td>1.0</td>\n",
       "      <td>-1</td>\n",
       "    </tr>\n",
       "    <tr>\n",
       "      <th>18</th>\n",
       "      <td>81</td>\n",
       "      <td>Panda licorice</td>\n",
       "      <td>Panda licorice, There is not too much I can sa...</td>\n",
       "      <td>5.0</td>\n",
       "      <td>1</td>\n",
       "    </tr>\n",
       "    <tr>\n",
       "      <th>19</th>\n",
       "      <td>82</td>\n",
       "      <td>Love this candy!</td>\n",
       "      <td>This is an awesome product, natural, not a lot...</td>\n",
       "      <td>1.0</td>\n",
       "      <td>-1</td>\n",
       "    </tr>\n",
       "    <tr>\n",
       "      <th>20</th>\n",
       "      <td>85</td>\n",
       "      <td>NOT gluten free</td>\n",
       "      <td>As soon as I had a couple of sips, my eczema s...</td>\n",
       "      <td>1.0</td>\n",
       "      <td>-1</td>\n",
       "    </tr>\n",
       "    <tr>\n",
       "      <th>22</th>\n",
       "      <td>94</td>\n",
       "      <td>Good stuff</td>\n",
       "      <td>This was good stuff but I just went thru it to...</td>\n",
       "      <td>5.0</td>\n",
       "      <td>1</td>\n",
       "    </tr>\n",
       "    <tr>\n",
       "      <th>26</th>\n",
       "      <td>105</td>\n",
       "      <td>Great purchase</td>\n",
       "      <td>I have been intrigued by the pour over coffee ...</td>\n",
       "      <td>5.0</td>\n",
       "      <td>1</td>\n",
       "    </tr>\n",
       "    <tr>\n",
       "      <th>27</th>\n",
       "      <td>119</td>\n",
       "      <td>Really vibrant colors for just a little dye</td>\n",
       "      <td>Yeah, this dye is tasteless as advertised!  I ...</td>\n",
       "      <td>5.0</td>\n",
       "      <td>1</td>\n",
       "    </tr>\n",
       "    <tr>\n",
       "      <th>28</th>\n",
       "      <td>122</td>\n",
       "      <td>A bit pricey, but cool if you're into cake dec...</td>\n",
       "      <td>A bit pricey, but a little goes a long way.  A...</td>\n",
       "      <td>4.0</td>\n",
       "      <td>1</td>\n",
       "    </tr>\n",
       "    <tr>\n",
       "      <th>29</th>\n",
       "      <td>134</td>\n",
       "      <td>Ingredients are unhealthy</td>\n",
       "      <td>No way would I put the vast majority of the in...</td>\n",
       "      <td>2.0</td>\n",
       "      <td>-1</td>\n",
       "    </tr>\n",
       "    <tr>\n",
       "      <th>30</th>\n",
       "      <td>146</td>\n",
       "      <td>Cinnamon Licorice powder</td>\n",
       "      <td>this stuff is a poor example of an authentic 5...</td>\n",
       "      <td>2.0</td>\n",
       "      <td>-1</td>\n",
       "    </tr>\n",
       "    <tr>\n",
       "      <th>31</th>\n",
       "      <td>149</td>\n",
       "      <td>Fabulous</td>\n",
       "      <td>I tried to find this spice and was unsuccessfu...</td>\n",
       "      <td>5.0</td>\n",
       "      <td>1</td>\n",
       "    </tr>\n",
       "  </tbody>\n",
       "</table>\n",
       "</div>"
      ],
      "text/plain": [
       "    Unnamed: 0  ... sentiment\n",
       "2            9  ...        -1\n",
       "4           20  ...         1\n",
       "5           28  ...         1\n",
       "7           32  ...        -1\n",
       "9           46  ...         1\n",
       "11          49  ...         1\n",
       "13          54  ...         1\n",
       "15          63  ...         1\n",
       "16          65  ...         1\n",
       "17          75  ...        -1\n",
       "18          81  ...         1\n",
       "19          82  ...        -1\n",
       "20          85  ...        -1\n",
       "22          94  ...         1\n",
       "26         105  ...         1\n",
       "27         119  ...         1\n",
       "28         122  ...         1\n",
       "29         134  ...        -1\n",
       "30         146  ...        -1\n",
       "31         149  ...         1\n",
       "\n",
       "[20 rows x 5 columns]"
      ]
     },
     "execution_count": 81,
     "metadata": {
      "tags": []
     },
     "output_type": "execute_result"
    }
   ],
   "source": [
    "products['sentiment'] = products['rating'].apply(lambda rating : +1 if rating > 3 else -1)\n",
    "products[0:20]"
   ]
  },
  {
   "cell_type": "markdown",
   "metadata": {
    "colab_type": "text",
    "id": "e0nuFuVEoKIG"
   },
   "source": [
    "Now, we can see that the dataset contains an extra column called **sentiment** which is either positive (+1) or negative (-1)."
   ]
  },
  {
   "cell_type": "markdown",
   "metadata": {
    "colab_type": "text",
    "id": "y6O8Q5_1oKIH"
   },
   "source": [
    "## Build the word count vector for each review"
   ]
  },
  {
   "cell_type": "markdown",
   "metadata": {
    "colab_type": "text",
    "id": "4YerX_aloKIH"
   },
   "source": [
    "Let us explore a specific example of a food product."
   ]
  },
  {
   "cell_type": "code",
   "execution_count": 82,
   "metadata": {
    "colab": {
     "base_uri": "https://localhost:8080/",
     "height": 119
    },
    "colab_type": "code",
    "id": "LG6I0CV5oKII",
    "outputId": "8b399a1e-9300-4e17-ec90-f2018199bc7c"
   },
   "outputs": [
    {
     "data": {
      "text/plain": [
       "Unnamed: 0                                                  162\n",
       "summary                                                Not good\n",
       "review        unsure if I just got a bad batch or what...the...\n",
       "rating                                                        1\n",
       "sentiment                                                    -1\n",
       "Name: 37, dtype: object"
      ]
     },
     "execution_count": 82,
     "metadata": {
      "tags": []
     },
     "output_type": "execute_result"
    }
   ],
   "source": [
    "products.iloc[21]"
   ]
  },
  {
   "cell_type": "markdown",
   "metadata": {
    "colab_type": "text",
    "id": "H3PE8muToKIJ"
   },
   "source": [
    "Now, we will perform 2 simple data transformations:\n",
    "\n",
    "1. Remove punctuation using [Python's built-in](https://docs.python.org/2/library/string.html) string functionality.\n",
    "2. Transform the reviews into word-counts.\n",
    "\n",
    "**Aside**. In this assignment, we remove all punctuations for the sake of simplicity. A smarter approach to punctuations would preserve phrases such as \"I'd\", \"would've\", \"hadn't\" and so forth. See [this page](ftp://ftp.cis.upenn.edu/pub/treebank/public_html/tokenization.html) for an example of smart handling of punctuations."
   ]
  },
  {
   "cell_type": "code",
   "execution_count": 0,
   "metadata": {
    "colab": {},
    "colab_type": "code",
    "id": "_3MS9d_ioKIK"
   },
   "outputs": [],
   "source": [
    "def remove_punctuation(text):\n",
    "    if type(text) != str:\n",
    "        return ''\n",
    "    return text.translate(str.maketrans('', '', string.punctuation))\n",
    "\n",
    "products['review_clean'] = products['review'].apply(remove_punctuation)"
   ]
  },
  {
   "cell_type": "markdown",
   "metadata": {
    "colab_type": "text",
    "id": "_gO-Aky6oKIN"
   },
   "source": [
    "Now, let us explore what the sample example above looks like after these 2 transformations."
   ]
  },
  {
   "cell_type": "code",
   "execution_count": 0,
   "metadata": {
    "colab": {},
    "colab_type": "code",
    "id": "8XIKsds4oKIR"
   },
   "outputs": [],
   "source": [
    "word_count = []\n",
    "\n",
    "for i in range(0,len(products)):\n",
    "    word_count_dict = {}\n",
    "    review_clean = products['review_clean'].iloc[i]\n",
    "    review_clean = review_clean.split(' ')\n",
    "    for word in review_clean:\n",
    "        if word in word_count_dict.keys():\n",
    "            word_count_dict[word] += 1\n",
    "        else:\n",
    "            word_count_dict[word] = 1\n",
    "    word_count.append(word_count_dict)\n",
    "\n",
    "products['word_count'] = word_count"
   ]
  },
  {
   "cell_type": "code",
   "execution_count": 0,
   "metadata": {
    "colab": {},
    "colab_type": "code",
    "id": "3evm92C2oKIW"
   },
   "outputs": [],
   "source": [
    "# Create a DictVectorizer and create vectors for these dictionaries\n",
    "dictVectorizer = DictVectorizer()\n",
    "features_Frame = dictVectorizer.fit_transform(products['word_count'])"
   ]
  },
  {
   "cell_type": "code",
   "execution_count": 86,
   "metadata": {
    "colab": {
     "base_uri": "https://localhost:8080/",
     "height": 491
    },
    "colab_type": "code",
    "id": "O71CCFy8oKIY",
    "outputId": "5dd1aac9-849f-4363-c139-32a3a8a82496"
   },
   "outputs": [
    {
     "data": {
      "text/html": [
       "<div>\n",
       "<style scoped>\n",
       "    .dataframe tbody tr th:only-of-type {\n",
       "        vertical-align: middle;\n",
       "    }\n",
       "\n",
       "    .dataframe tbody tr th {\n",
       "        vertical-align: top;\n",
       "    }\n",
       "\n",
       "    .dataframe thead th {\n",
       "        text-align: right;\n",
       "    }\n",
       "</style>\n",
       "<table border=\"1\" class=\"dataframe\">\n",
       "  <thead>\n",
       "    <tr style=\"text-align: right;\">\n",
       "      <th></th>\n",
       "      <th>0</th>\n",
       "      <th>1</th>\n",
       "      <th>2</th>\n",
       "      <th>3</th>\n",
       "      <th>4</th>\n",
       "      <th>5</th>\n",
       "      <th>6</th>\n",
       "      <th>7</th>\n",
       "      <th>8</th>\n",
       "      <th>9</th>\n",
       "      <th>10</th>\n",
       "      <th>11</th>\n",
       "      <th>12</th>\n",
       "      <th>13</th>\n",
       "      <th>14</th>\n",
       "      <th>15</th>\n",
       "      <th>16</th>\n",
       "      <th>17</th>\n",
       "      <th>18</th>\n",
       "      <th>19</th>\n",
       "      <th>20</th>\n",
       "      <th>21</th>\n",
       "      <th>22</th>\n",
       "      <th>23</th>\n",
       "      <th>24</th>\n",
       "      <th>25</th>\n",
       "      <th>26</th>\n",
       "      <th>27</th>\n",
       "      <th>28</th>\n",
       "      <th>29</th>\n",
       "      <th>30</th>\n",
       "      <th>31</th>\n",
       "      <th>32</th>\n",
       "      <th>33</th>\n",
       "      <th>34</th>\n",
       "      <th>35</th>\n",
       "      <th>36</th>\n",
       "      <th>37</th>\n",
       "      <th>38</th>\n",
       "      <th>39</th>\n",
       "      <th>...</th>\n",
       "      <th>13715</th>\n",
       "      <th>13716</th>\n",
       "      <th>13717</th>\n",
       "      <th>13718</th>\n",
       "      <th>13719</th>\n",
       "      <th>13720</th>\n",
       "      <th>13721</th>\n",
       "      <th>13722</th>\n",
       "      <th>13723</th>\n",
       "      <th>13724</th>\n",
       "      <th>13725</th>\n",
       "      <th>13726</th>\n",
       "      <th>13727</th>\n",
       "      <th>13728</th>\n",
       "      <th>13729</th>\n",
       "      <th>13730</th>\n",
       "      <th>13731</th>\n",
       "      <th>13732</th>\n",
       "      <th>13733</th>\n",
       "      <th>13734</th>\n",
       "      <th>13735</th>\n",
       "      <th>13736</th>\n",
       "      <th>13737</th>\n",
       "      <th>13738</th>\n",
       "      <th>13739</th>\n",
       "      <th>13740</th>\n",
       "      <th>13741</th>\n",
       "      <th>13742</th>\n",
       "      <th>13743</th>\n",
       "      <th>13744</th>\n",
       "      <th>13745</th>\n",
       "      <th>13746</th>\n",
       "      <th>13747</th>\n",
       "      <th>13748</th>\n",
       "      <th>13749</th>\n",
       "      <th>13750</th>\n",
       "      <th>13751</th>\n",
       "      <th>sentiment</th>\n",
       "      <th>review_clean</th>\n",
       "      <th>summary</th>\n",
       "    </tr>\n",
       "  </thead>\n",
       "  <tbody>\n",
       "    <tr>\n",
       "      <th>0</th>\n",
       "      <td>0.0</td>\n",
       "      <td>0.0</td>\n",
       "      <td>0.0</td>\n",
       "      <td>0.0</td>\n",
       "      <td>0.0</td>\n",
       "      <td>0.0</td>\n",
       "      <td>0.0</td>\n",
       "      <td>0.0</td>\n",
       "      <td>0.0</td>\n",
       "      <td>0.0</td>\n",
       "      <td>0.0</td>\n",
       "      <td>0.0</td>\n",
       "      <td>0.0</td>\n",
       "      <td>0.0</td>\n",
       "      <td>0.0</td>\n",
       "      <td>0.0</td>\n",
       "      <td>0.0</td>\n",
       "      <td>0.0</td>\n",
       "      <td>0.0</td>\n",
       "      <td>0.0</td>\n",
       "      <td>0.0</td>\n",
       "      <td>0.0</td>\n",
       "      <td>0.0</td>\n",
       "      <td>0.0</td>\n",
       "      <td>0.0</td>\n",
       "      <td>0.0</td>\n",
       "      <td>0.0</td>\n",
       "      <td>0.0</td>\n",
       "      <td>0.0</td>\n",
       "      <td>0.0</td>\n",
       "      <td>0.0</td>\n",
       "      <td>0.0</td>\n",
       "      <td>0.0</td>\n",
       "      <td>0.0</td>\n",
       "      <td>0.0</td>\n",
       "      <td>0.0</td>\n",
       "      <td>0.0</td>\n",
       "      <td>0.0</td>\n",
       "      <td>0.0</td>\n",
       "      <td>0.0</td>\n",
       "      <td>...</td>\n",
       "      <td>0.0</td>\n",
       "      <td>0.0</td>\n",
       "      <td>0.0</td>\n",
       "      <td>0.0</td>\n",
       "      <td>0.0</td>\n",
       "      <td>0.0</td>\n",
       "      <td>0.0</td>\n",
       "      <td>0.0</td>\n",
       "      <td>0.0</td>\n",
       "      <td>0.0</td>\n",
       "      <td>0.0</td>\n",
       "      <td>0.0</td>\n",
       "      <td>0.0</td>\n",
       "      <td>0.0</td>\n",
       "      <td>0.0</td>\n",
       "      <td>0.0</td>\n",
       "      <td>0.0</td>\n",
       "      <td>0.0</td>\n",
       "      <td>0.0</td>\n",
       "      <td>0.0</td>\n",
       "      <td>0.0</td>\n",
       "      <td>0.0</td>\n",
       "      <td>0.0</td>\n",
       "      <td>0.0</td>\n",
       "      <td>0.0</td>\n",
       "      <td>0.0</td>\n",
       "      <td>0.0</td>\n",
       "      <td>0.0</td>\n",
       "      <td>0.0</td>\n",
       "      <td>0.0</td>\n",
       "      <td>0.0</td>\n",
       "      <td>0.0</td>\n",
       "      <td>0.0</td>\n",
       "      <td>0.0</td>\n",
       "      <td>0.0</td>\n",
       "      <td>0.0</td>\n",
       "      <td>0.0</td>\n",
       "      <td>-1</td>\n",
       "      <td>I love green tea I love Kit Kats but the two d...</td>\n",
       "      <td>Not a fan</td>\n",
       "    </tr>\n",
       "    <tr>\n",
       "      <th>1</th>\n",
       "      <td>1.0</td>\n",
       "      <td>0.0</td>\n",
       "      <td>0.0</td>\n",
       "      <td>0.0</td>\n",
       "      <td>0.0</td>\n",
       "      <td>0.0</td>\n",
       "      <td>0.0</td>\n",
       "      <td>0.0</td>\n",
       "      <td>0.0</td>\n",
       "      <td>0.0</td>\n",
       "      <td>0.0</td>\n",
       "      <td>0.0</td>\n",
       "      <td>0.0</td>\n",
       "      <td>0.0</td>\n",
       "      <td>0.0</td>\n",
       "      <td>0.0</td>\n",
       "      <td>0.0</td>\n",
       "      <td>0.0</td>\n",
       "      <td>0.0</td>\n",
       "      <td>0.0</td>\n",
       "      <td>0.0</td>\n",
       "      <td>0.0</td>\n",
       "      <td>0.0</td>\n",
       "      <td>0.0</td>\n",
       "      <td>0.0</td>\n",
       "      <td>0.0</td>\n",
       "      <td>0.0</td>\n",
       "      <td>0.0</td>\n",
       "      <td>0.0</td>\n",
       "      <td>0.0</td>\n",
       "      <td>0.0</td>\n",
       "      <td>0.0</td>\n",
       "      <td>0.0</td>\n",
       "      <td>0.0</td>\n",
       "      <td>0.0</td>\n",
       "      <td>0.0</td>\n",
       "      <td>0.0</td>\n",
       "      <td>0.0</td>\n",
       "      <td>0.0</td>\n",
       "      <td>0.0</td>\n",
       "      <td>...</td>\n",
       "      <td>0.0</td>\n",
       "      <td>0.0</td>\n",
       "      <td>0.0</td>\n",
       "      <td>0.0</td>\n",
       "      <td>0.0</td>\n",
       "      <td>0.0</td>\n",
       "      <td>0.0</td>\n",
       "      <td>0.0</td>\n",
       "      <td>0.0</td>\n",
       "      <td>0.0</td>\n",
       "      <td>0.0</td>\n",
       "      <td>0.0</td>\n",
       "      <td>0.0</td>\n",
       "      <td>0.0</td>\n",
       "      <td>0.0</td>\n",
       "      <td>0.0</td>\n",
       "      <td>0.0</td>\n",
       "      <td>0.0</td>\n",
       "      <td>0.0</td>\n",
       "      <td>0.0</td>\n",
       "      <td>0.0</td>\n",
       "      <td>0.0</td>\n",
       "      <td>0.0</td>\n",
       "      <td>0.0</td>\n",
       "      <td>0.0</td>\n",
       "      <td>0.0</td>\n",
       "      <td>0.0</td>\n",
       "      <td>0.0</td>\n",
       "      <td>0.0</td>\n",
       "      <td>0.0</td>\n",
       "      <td>0.0</td>\n",
       "      <td>0.0</td>\n",
       "      <td>0.0</td>\n",
       "      <td>0.0</td>\n",
       "      <td>0.0</td>\n",
       "      <td>0.0</td>\n",
       "      <td>0.0</td>\n",
       "      <td>1</td>\n",
       "      <td>So many flavors I cant begin to tell you how m...</td>\n",
       "      <td>Thai curry is the way to go to add spice to an...</td>\n",
       "    </tr>\n",
       "    <tr>\n",
       "      <th>2</th>\n",
       "      <td>0.0</td>\n",
       "      <td>0.0</td>\n",
       "      <td>0.0</td>\n",
       "      <td>0.0</td>\n",
       "      <td>0.0</td>\n",
       "      <td>0.0</td>\n",
       "      <td>0.0</td>\n",
       "      <td>0.0</td>\n",
       "      <td>0.0</td>\n",
       "      <td>0.0</td>\n",
       "      <td>0.0</td>\n",
       "      <td>0.0</td>\n",
       "      <td>0.0</td>\n",
       "      <td>0.0</td>\n",
       "      <td>0.0</td>\n",
       "      <td>0.0</td>\n",
       "      <td>0.0</td>\n",
       "      <td>0.0</td>\n",
       "      <td>0.0</td>\n",
       "      <td>0.0</td>\n",
       "      <td>0.0</td>\n",
       "      <td>0.0</td>\n",
       "      <td>0.0</td>\n",
       "      <td>0.0</td>\n",
       "      <td>0.0</td>\n",
       "      <td>0.0</td>\n",
       "      <td>0.0</td>\n",
       "      <td>0.0</td>\n",
       "      <td>0.0</td>\n",
       "      <td>0.0</td>\n",
       "      <td>0.0</td>\n",
       "      <td>0.0</td>\n",
       "      <td>0.0</td>\n",
       "      <td>0.0</td>\n",
       "      <td>0.0</td>\n",
       "      <td>0.0</td>\n",
       "      <td>0.0</td>\n",
       "      <td>0.0</td>\n",
       "      <td>0.0</td>\n",
       "      <td>0.0</td>\n",
       "      <td>...</td>\n",
       "      <td>0.0</td>\n",
       "      <td>0.0</td>\n",
       "      <td>0.0</td>\n",
       "      <td>0.0</td>\n",
       "      <td>0.0</td>\n",
       "      <td>0.0</td>\n",
       "      <td>0.0</td>\n",
       "      <td>0.0</td>\n",
       "      <td>1.0</td>\n",
       "      <td>0.0</td>\n",
       "      <td>0.0</td>\n",
       "      <td>0.0</td>\n",
       "      <td>0.0</td>\n",
       "      <td>0.0</td>\n",
       "      <td>0.0</td>\n",
       "      <td>0.0</td>\n",
       "      <td>0.0</td>\n",
       "      <td>0.0</td>\n",
       "      <td>0.0</td>\n",
       "      <td>0.0</td>\n",
       "      <td>0.0</td>\n",
       "      <td>0.0</td>\n",
       "      <td>0.0</td>\n",
       "      <td>0.0</td>\n",
       "      <td>0.0</td>\n",
       "      <td>0.0</td>\n",
       "      <td>0.0</td>\n",
       "      <td>0.0</td>\n",
       "      <td>0.0</td>\n",
       "      <td>0.0</td>\n",
       "      <td>0.0</td>\n",
       "      <td>0.0</td>\n",
       "      <td>0.0</td>\n",
       "      <td>0.0</td>\n",
       "      <td>0.0</td>\n",
       "      <td>0.0</td>\n",
       "      <td>0.0</td>\n",
       "      <td>1</td>\n",
       "      <td>I have tried all the curris from Mae Ploy excl...</td>\n",
       "      <td>Delicious</td>\n",
       "    </tr>\n",
       "    <tr>\n",
       "      <th>3</th>\n",
       "      <td>1.0</td>\n",
       "      <td>0.0</td>\n",
       "      <td>0.0</td>\n",
       "      <td>0.0</td>\n",
       "      <td>0.0</td>\n",
       "      <td>0.0</td>\n",
       "      <td>0.0</td>\n",
       "      <td>0.0</td>\n",
       "      <td>0.0</td>\n",
       "      <td>0.0</td>\n",
       "      <td>0.0</td>\n",
       "      <td>0.0</td>\n",
       "      <td>0.0</td>\n",
       "      <td>0.0</td>\n",
       "      <td>0.0</td>\n",
       "      <td>0.0</td>\n",
       "      <td>0.0</td>\n",
       "      <td>0.0</td>\n",
       "      <td>0.0</td>\n",
       "      <td>0.0</td>\n",
       "      <td>0.0</td>\n",
       "      <td>0.0</td>\n",
       "      <td>0.0</td>\n",
       "      <td>0.0</td>\n",
       "      <td>0.0</td>\n",
       "      <td>0.0</td>\n",
       "      <td>0.0</td>\n",
       "      <td>0.0</td>\n",
       "      <td>0.0</td>\n",
       "      <td>0.0</td>\n",
       "      <td>0.0</td>\n",
       "      <td>0.0</td>\n",
       "      <td>0.0</td>\n",
       "      <td>0.0</td>\n",
       "      <td>0.0</td>\n",
       "      <td>0.0</td>\n",
       "      <td>0.0</td>\n",
       "      <td>0.0</td>\n",
       "      <td>0.0</td>\n",
       "      <td>0.0</td>\n",
       "      <td>...</td>\n",
       "      <td>0.0</td>\n",
       "      <td>0.0</td>\n",
       "      <td>0.0</td>\n",
       "      <td>0.0</td>\n",
       "      <td>0.0</td>\n",
       "      <td>0.0</td>\n",
       "      <td>0.0</td>\n",
       "      <td>0.0</td>\n",
       "      <td>0.0</td>\n",
       "      <td>0.0</td>\n",
       "      <td>0.0</td>\n",
       "      <td>0.0</td>\n",
       "      <td>0.0</td>\n",
       "      <td>0.0</td>\n",
       "      <td>0.0</td>\n",
       "      <td>0.0</td>\n",
       "      <td>0.0</td>\n",
       "      <td>0.0</td>\n",
       "      <td>0.0</td>\n",
       "      <td>0.0</td>\n",
       "      <td>0.0</td>\n",
       "      <td>0.0</td>\n",
       "      <td>0.0</td>\n",
       "      <td>0.0</td>\n",
       "      <td>0.0</td>\n",
       "      <td>0.0</td>\n",
       "      <td>0.0</td>\n",
       "      <td>0.0</td>\n",
       "      <td>0.0</td>\n",
       "      <td>0.0</td>\n",
       "      <td>0.0</td>\n",
       "      <td>0.0</td>\n",
       "      <td>0.0</td>\n",
       "      <td>0.0</td>\n",
       "      <td>0.0</td>\n",
       "      <td>0.0</td>\n",
       "      <td>0.0</td>\n",
       "      <td>-1</td>\n",
       "      <td>This product is no where near natural  organic...</td>\n",
       "      <td>Not natural/organic at all</td>\n",
       "    </tr>\n",
       "    <tr>\n",
       "      <th>4</th>\n",
       "      <td>0.0</td>\n",
       "      <td>0.0</td>\n",
       "      <td>0.0</td>\n",
       "      <td>0.0</td>\n",
       "      <td>0.0</td>\n",
       "      <td>0.0</td>\n",
       "      <td>0.0</td>\n",
       "      <td>0.0</td>\n",
       "      <td>0.0</td>\n",
       "      <td>0.0</td>\n",
       "      <td>0.0</td>\n",
       "      <td>0.0</td>\n",
       "      <td>0.0</td>\n",
       "      <td>0.0</td>\n",
       "      <td>0.0</td>\n",
       "      <td>0.0</td>\n",
       "      <td>0.0</td>\n",
       "      <td>0.0</td>\n",
       "      <td>0.0</td>\n",
       "      <td>0.0</td>\n",
       "      <td>0.0</td>\n",
       "      <td>0.0</td>\n",
       "      <td>0.0</td>\n",
       "      <td>0.0</td>\n",
       "      <td>0.0</td>\n",
       "      <td>0.0</td>\n",
       "      <td>0.0</td>\n",
       "      <td>0.0</td>\n",
       "      <td>0.0</td>\n",
       "      <td>0.0</td>\n",
       "      <td>0.0</td>\n",
       "      <td>0.0</td>\n",
       "      <td>0.0</td>\n",
       "      <td>0.0</td>\n",
       "      <td>0.0</td>\n",
       "      <td>0.0</td>\n",
       "      <td>0.0</td>\n",
       "      <td>0.0</td>\n",
       "      <td>0.0</td>\n",
       "      <td>0.0</td>\n",
       "      <td>...</td>\n",
       "      <td>0.0</td>\n",
       "      <td>0.0</td>\n",
       "      <td>0.0</td>\n",
       "      <td>0.0</td>\n",
       "      <td>0.0</td>\n",
       "      <td>0.0</td>\n",
       "      <td>0.0</td>\n",
       "      <td>0.0</td>\n",
       "      <td>0.0</td>\n",
       "      <td>0.0</td>\n",
       "      <td>0.0</td>\n",
       "      <td>0.0</td>\n",
       "      <td>0.0</td>\n",
       "      <td>0.0</td>\n",
       "      <td>0.0</td>\n",
       "      <td>0.0</td>\n",
       "      <td>0.0</td>\n",
       "      <td>0.0</td>\n",
       "      <td>0.0</td>\n",
       "      <td>0.0</td>\n",
       "      <td>0.0</td>\n",
       "      <td>0.0</td>\n",
       "      <td>0.0</td>\n",
       "      <td>0.0</td>\n",
       "      <td>0.0</td>\n",
       "      <td>0.0</td>\n",
       "      <td>0.0</td>\n",
       "      <td>0.0</td>\n",
       "      <td>0.0</td>\n",
       "      <td>0.0</td>\n",
       "      <td>0.0</td>\n",
       "      <td>0.0</td>\n",
       "      <td>0.0</td>\n",
       "      <td>0.0</td>\n",
       "      <td>0.0</td>\n",
       "      <td>0.0</td>\n",
       "      <td>0.0</td>\n",
       "      <td>1</td>\n",
       "      <td>Theres a vague taste of apple cinnamon but mos...</td>\n",
       "      <td>They work well enough.</td>\n",
       "    </tr>\n",
       "  </tbody>\n",
       "</table>\n",
       "<p>5 rows × 13755 columns</p>\n",
       "</div>"
      ],
      "text/plain": [
       "     0  ...                                            summary\n",
       "0  0.0  ...                                          Not a fan\n",
       "1  1.0  ...  Thai curry is the way to go to add spice to an...\n",
       "2  0.0  ...                                          Delicious\n",
       "3  1.0  ...                         Not natural/organic at all\n",
       "4  0.0  ...                             They work well enough.\n",
       "\n",
       "[5 rows x 13755 columns]"
      ]
     },
     "execution_count": 86,
     "metadata": {
      "tags": []
     },
     "output_type": "execute_result"
    }
   ],
   "source": [
    "#  Create a new DataFrame that has all these features as columns plus the sentiment label!\n",
    "product_data = pd.DataFrame(features_Frame.toarray())\n",
    "product_data['sentiment'] = list(products['sentiment'])\n",
    "product_data['review_clean'] = list(products['review_clean'])  # to display later\n",
    "product_data['summary'] = list(products['summary'])  # to display later\n",
    "product_data.head()"
   ]
  },
  {
   "cell_type": "markdown",
   "metadata": {
    "colab_type": "text",
    "id": "kOZtVJWloKIa"
   },
   "source": [
    "## Split data into training, validation and test sets."
   ]
  },
  {
   "cell_type": "markdown",
   "metadata": {
    "colab_type": "text",
    "id": "r8YPM64GoKIa"
   },
   "source": [
    "Let's perform a train/validation/test split with 80% of the data in the training set, 10% of the data in the validation set, 10% test. We use `random_state = 1` so that everyone gets the same result."
   ]
  },
  {
   "cell_type": "code",
   "execution_count": 0,
   "metadata": {
    "colab": {},
    "colab_type": "code",
    "id": "1Jn9EY25oKIb"
   },
   "outputs": [],
   "source": [
    "train_data, test_data = train_test_split(product_data, test_size = 0.2, random_state = 1)\n",
    "validation_data, test_data = train_test_split(test_data, test_size = 0.5, random_state = 1)"
   ]
  },
  {
   "cell_type": "markdown",
   "metadata": {
    "colab_type": "text",
    "id": "hhb1vTHhoKIe"
   },
   "source": [
    "## Baseline: Majority class prediction\n",
    "\n",
    "It is quite common to use the **majority class classifier** as the a baseline (or reference) model for comparison with your classifier model. The majority classifier model predicts the majority class for all data points. Given a classification problem with 2 classes, the majority class classifier has at least 50% accuracy.\n",
    "\n",
    "**Question 1:** What is the accuracy of the majority class classifer on the **validation_data**\n",
    "\n",
    "**Hint:** pandas allows you to take the sum of a boolean series - true values are equal to 1, false values are equal 0."
   ]
  },
  {
   "cell_type": "code",
   "execution_count": 183,
   "metadata": {
    "colab": {
     "base_uri": "https://localhost:8080/",
     "height": 102
    },
    "colab_type": "code",
    "id": "nsmMJ6bsoKIe",
    "outputId": "3d90c5e4-935a-40be-e697-8eb21f6ea832"
   },
   "outputs": [
    {
     "name": "stdout",
     "output_type": "stream",
     "text": [
      "0.5126536514822849\n",
      "0.5144508670520231\n",
      "majority of train \t= -1\n",
      "accuracy on train \t= 0.5126536514822849\n",
      "accuracy on validation \t= 0.5144508670520231\n"
     ]
    }
   ],
   "source": [
    "# TODO\n",
    "\n",
    "## dummy model method\n",
    "# from sklearn.dummy import DummyClassifier\n",
    "# from sklearn.metrics import accuracy_score\n",
    "# dummy_clf = DummyClassifier(strategy=\"most_frequent\")\n",
    "# dummy_clf.fit(train_data[features], train_data['sentiment'])\n",
    "# print(accuracy_score(train_data['sentiment'],dummy_clf.predict(train_data[features])))\n",
    "# print(accuracy_score(validation_data['sentiment'],dummy_clf.predict(validation_data[features])))\n",
    "\n",
    "# manual calculation\n",
    "majority = 1 if sum(train_data['sentiment'])>0 else -1\n",
    "print(\"majority of train \\t=\",majority)\n",
    "print(\"accuracy on train \\t=\",sum(train_data['sentiment']==majority)/len(train_data))\n",
    "print(\"accuracy on validation \\t=\",sum(validation_data['sentiment']==majority)/len(validation_data))"
   ]
  },
  {
   "cell_type": "markdown",
   "metadata": {
    "colab_type": "text",
    "id": "Vq_Tr_NNoKIh"
   },
   "source": [
    "# Train a sentiment classifier with logistic regression\n",
    "\n",
    "We will now use logistic regression to create a sentiment classifier on the training data. This model will use the column **word_count** as a feature and the column **sentiment** as the target. We will set **no regularization penalty** and set `random_state = 1` to get the same answer as everyone else. sklearn.LogisticRegression (documentation here) uses a value named c for the regularization hyper-parameter where  𝑐=1𝜆 . This means a really large value of c corresponds to a very small  𝜆 .\n",
    "\n",
    "**Note:** This line may take a few minutes."
   ]
  },
  {
   "cell_type": "code",
   "execution_count": 89,
   "metadata": {
    "colab": {
     "base_uri": "https://localhost:8080/",
     "height": 85
    },
    "colab_type": "code",
    "id": "c2j7sk5ToKIi",
    "outputId": "f37ab349-9acb-49d9-abbd-c59c17017012"
   },
   "outputs": [
    {
     "data": {
      "text/plain": [
       "LogisticRegression(C=1e+23, class_weight=None, dual=False, fit_intercept=True,\n",
       "          intercept_scaling=1, max_iter=100, multi_class='warn',\n",
       "          n_jobs=None, penalty='l2', random_state=1, solver='warn',\n",
       "          tol=0.0001, verbose=0, warm_start=False)"
      ]
     },
     "execution_count": 89,
     "metadata": {
      "tags": []
     },
     "output_type": "execute_result"
    }
   ],
   "source": [
    "features = list(train_data.columns)\n",
    "features.remove('sentiment')\n",
    "features.remove('review_clean')\n",
    "features.remove('summary')\n",
    "\n",
    "#Note: C = 1/Lambda. Setting C to a really high value is the same as setting lambda = 0\n",
    "sentiment_model = LogisticRegression(penalty='l2', random_state = 1, C = 1e23)\n",
    "sentiment_model.fit(train_data[features], train_data['sentiment'])"
   ]
  },
  {
   "cell_type": "markdown",
   "metadata": {
    "colab_type": "text",
    "id": "y9_L_LQh_8Lh"
   },
   "source": [
    "Let's look at some of the coefficients and the corresponding words. The weights are stored in a `coef_` object: "
   ]
  },
  {
   "cell_type": "code",
   "execution_count": 0,
   "metadata": {
    "colab": {},
    "colab_type": "code",
    "id": "ncVfVHa3ABjo"
   },
   "outputs": [],
   "source": [
    "weights = sentiment_model.coef_[0] "
   ]
  },
  {
   "cell_type": "markdown",
   "metadata": {
    "colab_type": "text",
    "id": "gw4XzTba_O2c"
   },
   "source": [
    "The words are stored in the Vectorizer object:\n"
   ]
  },
  {
   "cell_type": "code",
   "execution_count": 0,
   "metadata": {
    "colab": {},
    "colab_type": "code",
    "id": "T9yXlJEwAfLi"
   },
   "outputs": [],
   "source": [
    "feature_names = dictVectorizer.get_feature_names()"
   ]
  },
  {
   "cell_type": "markdown",
   "metadata": {
    "colab_type": "text",
    "id": "ey5qxhT_oKIr"
   },
   "source": [
    "\n",
    "\n",
    "\n",
    "**Question 2:** Find the word with the lowest weight and enter the number in Gradescope. Explore some of the words with high and low weights: do they make sense."
   ]
  },
  {
   "cell_type": "code",
   "execution_count": 92,
   "metadata": {
    "colab": {
     "base_uri": "https://localhost:8080/",
     "height": 51
    },
    "colab_type": "code",
    "id": "ugh01Ke9wLGR",
    "outputId": "aac25ec1-8817-43a4-d313-25dcf7183707"
   },
   "outputs": [
    {
     "name": "stdout",
     "output_type": "stream",
     "text": [
      "word with max weight: Does \tweight = 5.384696063800742\n",
      "word with min weight: Not \tweight = -4.431331345347807\n"
     ]
    }
   ],
   "source": [
    "# TODO\n",
    "max_i = np.argmax(weights)\n",
    "min_i = np.argmin(weights)\n",
    "print(\"word with max weight:\", feature_names[max_i], \"\\tweight =\", weights[max_i])\n",
    "print(\"word with min weight:\", feature_names[min_i], \"\\tweight =\", weights[min_i])"
   ]
  },
  {
   "cell_type": "markdown",
   "metadata": {
    "colab_type": "text",
    "id": "pbGv2CqIoKIs"
   },
   "source": [
    "## Making predictions with logistic regression\n",
    "\n",
    "Now that a model is trained, we can make predictions on the **validation data**. In this section, we will explore this in the context of 3 examples in the validation dataset.  We refer to this set of 3 examples as the **sample_data**."
   ]
  },
  {
   "cell_type": "code",
   "execution_count": 93,
   "metadata": {
    "colab": {
     "base_uri": "https://localhost:8080/",
     "height": 378
    },
    "colab_type": "code",
    "id": "_TOKLqPKoKIt",
    "outputId": "3836e75d-08b8-4387-c85f-8eaba6de8e14"
   },
   "outputs": [
    {
     "data": {
      "text/html": [
       "<div>\n",
       "<style scoped>\n",
       "    .dataframe tbody tr th:only-of-type {\n",
       "        vertical-align: middle;\n",
       "    }\n",
       "\n",
       "    .dataframe tbody tr th {\n",
       "        vertical-align: top;\n",
       "    }\n",
       "\n",
       "    .dataframe thead th {\n",
       "        text-align: right;\n",
       "    }\n",
       "</style>\n",
       "<table border=\"1\" class=\"dataframe\">\n",
       "  <thead>\n",
       "    <tr style=\"text-align: right;\">\n",
       "      <th></th>\n",
       "      <th>0</th>\n",
       "      <th>1</th>\n",
       "      <th>2</th>\n",
       "      <th>3</th>\n",
       "      <th>4</th>\n",
       "      <th>5</th>\n",
       "      <th>6</th>\n",
       "      <th>7</th>\n",
       "      <th>8</th>\n",
       "      <th>9</th>\n",
       "      <th>10</th>\n",
       "      <th>11</th>\n",
       "      <th>12</th>\n",
       "      <th>13</th>\n",
       "      <th>14</th>\n",
       "      <th>15</th>\n",
       "      <th>16</th>\n",
       "      <th>17</th>\n",
       "      <th>18</th>\n",
       "      <th>19</th>\n",
       "      <th>20</th>\n",
       "      <th>21</th>\n",
       "      <th>22</th>\n",
       "      <th>23</th>\n",
       "      <th>24</th>\n",
       "      <th>25</th>\n",
       "      <th>26</th>\n",
       "      <th>27</th>\n",
       "      <th>28</th>\n",
       "      <th>29</th>\n",
       "      <th>30</th>\n",
       "      <th>31</th>\n",
       "      <th>32</th>\n",
       "      <th>33</th>\n",
       "      <th>34</th>\n",
       "      <th>35</th>\n",
       "      <th>36</th>\n",
       "      <th>37</th>\n",
       "      <th>38</th>\n",
       "      <th>39</th>\n",
       "      <th>...</th>\n",
       "      <th>13715</th>\n",
       "      <th>13716</th>\n",
       "      <th>13717</th>\n",
       "      <th>13718</th>\n",
       "      <th>13719</th>\n",
       "      <th>13720</th>\n",
       "      <th>13721</th>\n",
       "      <th>13722</th>\n",
       "      <th>13723</th>\n",
       "      <th>13724</th>\n",
       "      <th>13725</th>\n",
       "      <th>13726</th>\n",
       "      <th>13727</th>\n",
       "      <th>13728</th>\n",
       "      <th>13729</th>\n",
       "      <th>13730</th>\n",
       "      <th>13731</th>\n",
       "      <th>13732</th>\n",
       "      <th>13733</th>\n",
       "      <th>13734</th>\n",
       "      <th>13735</th>\n",
       "      <th>13736</th>\n",
       "      <th>13737</th>\n",
       "      <th>13738</th>\n",
       "      <th>13739</th>\n",
       "      <th>13740</th>\n",
       "      <th>13741</th>\n",
       "      <th>13742</th>\n",
       "      <th>13743</th>\n",
       "      <th>13744</th>\n",
       "      <th>13745</th>\n",
       "      <th>13746</th>\n",
       "      <th>13747</th>\n",
       "      <th>13748</th>\n",
       "      <th>13749</th>\n",
       "      <th>13750</th>\n",
       "      <th>13751</th>\n",
       "      <th>sentiment</th>\n",
       "      <th>review_clean</th>\n",
       "      <th>summary</th>\n",
       "    </tr>\n",
       "  </thead>\n",
       "  <tbody>\n",
       "    <tr>\n",
       "      <th>60</th>\n",
       "      <td>3.0</td>\n",
       "      <td>0.0</td>\n",
       "      <td>0.0</td>\n",
       "      <td>0.0</td>\n",
       "      <td>0.0</td>\n",
       "      <td>0.0</td>\n",
       "      <td>0.0</td>\n",
       "      <td>0.0</td>\n",
       "      <td>0.0</td>\n",
       "      <td>0.0</td>\n",
       "      <td>0.0</td>\n",
       "      <td>0.0</td>\n",
       "      <td>0.0</td>\n",
       "      <td>0.0</td>\n",
       "      <td>0.0</td>\n",
       "      <td>0.0</td>\n",
       "      <td>0.0</td>\n",
       "      <td>0.0</td>\n",
       "      <td>0.0</td>\n",
       "      <td>0.0</td>\n",
       "      <td>0.0</td>\n",
       "      <td>0.0</td>\n",
       "      <td>0.0</td>\n",
       "      <td>0.0</td>\n",
       "      <td>0.0</td>\n",
       "      <td>0.0</td>\n",
       "      <td>0.0</td>\n",
       "      <td>0.0</td>\n",
       "      <td>0.0</td>\n",
       "      <td>0.0</td>\n",
       "      <td>0.0</td>\n",
       "      <td>0.0</td>\n",
       "      <td>0.0</td>\n",
       "      <td>0.0</td>\n",
       "      <td>0.0</td>\n",
       "      <td>0.0</td>\n",
       "      <td>0.0</td>\n",
       "      <td>0.0</td>\n",
       "      <td>0.0</td>\n",
       "      <td>0.0</td>\n",
       "      <td>...</td>\n",
       "      <td>0.0</td>\n",
       "      <td>0.0</td>\n",
       "      <td>0.0</td>\n",
       "      <td>0.0</td>\n",
       "      <td>0.0</td>\n",
       "      <td>0.0</td>\n",
       "      <td>0.0</td>\n",
       "      <td>0.0</td>\n",
       "      <td>0.0</td>\n",
       "      <td>0.0</td>\n",
       "      <td>0.0</td>\n",
       "      <td>0.0</td>\n",
       "      <td>0.0</td>\n",
       "      <td>0.0</td>\n",
       "      <td>0.0</td>\n",
       "      <td>0.0</td>\n",
       "      <td>0.0</td>\n",
       "      <td>0.0</td>\n",
       "      <td>0.0</td>\n",
       "      <td>0.0</td>\n",
       "      <td>0.0</td>\n",
       "      <td>0.0</td>\n",
       "      <td>0.0</td>\n",
       "      <td>0.0</td>\n",
       "      <td>0.0</td>\n",
       "      <td>0.0</td>\n",
       "      <td>0.0</td>\n",
       "      <td>0.0</td>\n",
       "      <td>0.0</td>\n",
       "      <td>0.0</td>\n",
       "      <td>0.0</td>\n",
       "      <td>0.0</td>\n",
       "      <td>0.0</td>\n",
       "      <td>0.0</td>\n",
       "      <td>0.0</td>\n",
       "      <td>0.0</td>\n",
       "      <td>0.0</td>\n",
       "      <td>-1</td>\n",
       "      <td>When I was incarcerated in a Mexican prison th...</td>\n",
       "      <td>taste is awful</td>\n",
       "    </tr>\n",
       "    <tr>\n",
       "      <th>1557</th>\n",
       "      <td>0.0</td>\n",
       "      <td>0.0</td>\n",
       "      <td>0.0</td>\n",
       "      <td>0.0</td>\n",
       "      <td>0.0</td>\n",
       "      <td>0.0</td>\n",
       "      <td>0.0</td>\n",
       "      <td>0.0</td>\n",
       "      <td>0.0</td>\n",
       "      <td>0.0</td>\n",
       "      <td>0.0</td>\n",
       "      <td>0.0</td>\n",
       "      <td>0.0</td>\n",
       "      <td>0.0</td>\n",
       "      <td>0.0</td>\n",
       "      <td>0.0</td>\n",
       "      <td>0.0</td>\n",
       "      <td>0.0</td>\n",
       "      <td>0.0</td>\n",
       "      <td>0.0</td>\n",
       "      <td>0.0</td>\n",
       "      <td>0.0</td>\n",
       "      <td>0.0</td>\n",
       "      <td>0.0</td>\n",
       "      <td>0.0</td>\n",
       "      <td>0.0</td>\n",
       "      <td>0.0</td>\n",
       "      <td>0.0</td>\n",
       "      <td>0.0</td>\n",
       "      <td>0.0</td>\n",
       "      <td>0.0</td>\n",
       "      <td>0.0</td>\n",
       "      <td>0.0</td>\n",
       "      <td>0.0</td>\n",
       "      <td>0.0</td>\n",
       "      <td>0.0</td>\n",
       "      <td>0.0</td>\n",
       "      <td>0.0</td>\n",
       "      <td>0.0</td>\n",
       "      <td>0.0</td>\n",
       "      <td>...</td>\n",
       "      <td>0.0</td>\n",
       "      <td>0.0</td>\n",
       "      <td>0.0</td>\n",
       "      <td>0.0</td>\n",
       "      <td>0.0</td>\n",
       "      <td>0.0</td>\n",
       "      <td>0.0</td>\n",
       "      <td>0.0</td>\n",
       "      <td>0.0</td>\n",
       "      <td>0.0</td>\n",
       "      <td>0.0</td>\n",
       "      <td>0.0</td>\n",
       "      <td>0.0</td>\n",
       "      <td>0.0</td>\n",
       "      <td>0.0</td>\n",
       "      <td>0.0</td>\n",
       "      <td>0.0</td>\n",
       "      <td>0.0</td>\n",
       "      <td>0.0</td>\n",
       "      <td>0.0</td>\n",
       "      <td>0.0</td>\n",
       "      <td>0.0</td>\n",
       "      <td>0.0</td>\n",
       "      <td>0.0</td>\n",
       "      <td>0.0</td>\n",
       "      <td>0.0</td>\n",
       "      <td>0.0</td>\n",
       "      <td>0.0</td>\n",
       "      <td>0.0</td>\n",
       "      <td>0.0</td>\n",
       "      <td>0.0</td>\n",
       "      <td>0.0</td>\n",
       "      <td>0.0</td>\n",
       "      <td>0.0</td>\n",
       "      <td>0.0</td>\n",
       "      <td>0.0</td>\n",
       "      <td>0.0</td>\n",
       "      <td>1</td>\n",
       "      <td>a good buy for walnut piecesA known brand name...</td>\n",
       "      <td>a good buy fo walnut pieces...</td>\n",
       "    </tr>\n",
       "    <tr>\n",
       "      <th>733</th>\n",
       "      <td>3.0</td>\n",
       "      <td>0.0</td>\n",
       "      <td>0.0</td>\n",
       "      <td>0.0</td>\n",
       "      <td>0.0</td>\n",
       "      <td>0.0</td>\n",
       "      <td>0.0</td>\n",
       "      <td>0.0</td>\n",
       "      <td>0.0</td>\n",
       "      <td>0.0</td>\n",
       "      <td>0.0</td>\n",
       "      <td>0.0</td>\n",
       "      <td>0.0</td>\n",
       "      <td>0.0</td>\n",
       "      <td>0.0</td>\n",
       "      <td>0.0</td>\n",
       "      <td>0.0</td>\n",
       "      <td>0.0</td>\n",
       "      <td>0.0</td>\n",
       "      <td>0.0</td>\n",
       "      <td>0.0</td>\n",
       "      <td>0.0</td>\n",
       "      <td>0.0</td>\n",
       "      <td>0.0</td>\n",
       "      <td>0.0</td>\n",
       "      <td>0.0</td>\n",
       "      <td>0.0</td>\n",
       "      <td>0.0</td>\n",
       "      <td>0.0</td>\n",
       "      <td>0.0</td>\n",
       "      <td>0.0</td>\n",
       "      <td>0.0</td>\n",
       "      <td>0.0</td>\n",
       "      <td>0.0</td>\n",
       "      <td>0.0</td>\n",
       "      <td>0.0</td>\n",
       "      <td>0.0</td>\n",
       "      <td>0.0</td>\n",
       "      <td>0.0</td>\n",
       "      <td>0.0</td>\n",
       "      <td>...</td>\n",
       "      <td>0.0</td>\n",
       "      <td>0.0</td>\n",
       "      <td>0.0</td>\n",
       "      <td>0.0</td>\n",
       "      <td>0.0</td>\n",
       "      <td>0.0</td>\n",
       "      <td>0.0</td>\n",
       "      <td>0.0</td>\n",
       "      <td>1.0</td>\n",
       "      <td>0.0</td>\n",
       "      <td>1.0</td>\n",
       "      <td>0.0</td>\n",
       "      <td>0.0</td>\n",
       "      <td>0.0</td>\n",
       "      <td>0.0</td>\n",
       "      <td>0.0</td>\n",
       "      <td>0.0</td>\n",
       "      <td>0.0</td>\n",
       "      <td>0.0</td>\n",
       "      <td>0.0</td>\n",
       "      <td>0.0</td>\n",
       "      <td>0.0</td>\n",
       "      <td>0.0</td>\n",
       "      <td>0.0</td>\n",
       "      <td>0.0</td>\n",
       "      <td>0.0</td>\n",
       "      <td>0.0</td>\n",
       "      <td>0.0</td>\n",
       "      <td>0.0</td>\n",
       "      <td>0.0</td>\n",
       "      <td>0.0</td>\n",
       "      <td>0.0</td>\n",
       "      <td>0.0</td>\n",
       "      <td>0.0</td>\n",
       "      <td>0.0</td>\n",
       "      <td>0.0</td>\n",
       "      <td>0.0</td>\n",
       "      <td>-1</td>\n",
       "      <td>Theres a lot of talk about echinacea being a l...</td>\n",
       "      <td>There Ought To Be No \"U\" (or \"K\") in Yogi</td>\n",
       "    </tr>\n",
       "  </tbody>\n",
       "</table>\n",
       "<p>3 rows × 13755 columns</p>\n",
       "</div>"
      ],
      "text/plain": [
       "        0  ...                                    summary\n",
       "60    3.0  ...                             taste is awful\n",
       "1557  0.0  ...             a good buy fo walnut pieces...\n",
       "733   3.0  ...  There Ought To Be No \"U\" (or \"K\") in Yogi\n",
       "\n",
       "[3 rows x 13755 columns]"
      ]
     },
     "execution_count": 93,
     "metadata": {
      "tags": []
     },
     "output_type": "execute_result"
    }
   ],
   "source": [
    "sample_data = validation_data[10:13]\n",
    "sample_data"
   ]
  },
  {
   "cell_type": "markdown",
   "metadata": {
    "colab_type": "text",
    "id": "KWh2npR2oKIv"
   },
   "source": [
    "### Predicting sentiment\n"
   ]
  },
  {
   "cell_type": "code",
   "execution_count": 94,
   "metadata": {
    "colab": {
     "base_uri": "https://localhost:8080/",
     "height": 102
    },
    "colab_type": "code",
    "id": "mIRFoX8XoKIv",
    "outputId": "d2ec03ee-3076-4748-bc34-9c034b45b244"
   },
   "outputs": [
    {
     "name": "stdout",
     "output_type": "stream",
     "text": [
      "Probability predictions on the sample data:\n",
      "Negative Sentiment  Positive Sentiment\n",
      "[[9.99979475e-01 2.05250416e-05]\n",
      " [1.03995426e-04 9.99896005e-01]\n",
      " [4.22307054e-07 9.99999578e-01]]\n"
     ]
    }
   ],
   "source": [
    "print (\"Probability predictions on the sample data:\")\n",
    "print('Negative Sentiment  Positive Sentiment')\n",
    "print(sentiment_model.predict_proba(sample_data[features]))"
   ]
  },
  {
   "cell_type": "code",
   "execution_count": 95,
   "metadata": {
    "colab": {
     "base_uri": "https://localhost:8080/",
     "height": 34
    },
    "colab_type": "code",
    "id": "h06O0-eIoKIx",
    "outputId": "9f1fc67a-3e13-4fb2-ed12-d80f4ef2d89d"
   },
   "outputs": [
    {
     "name": "stdout",
     "output_type": "stream",
     "text": [
      "[-1  1  1]\n"
     ]
    }
   ],
   "source": [
    "print(sentiment_model.predict(sample_data[features]))"
   ]
  },
  {
   "cell_type": "markdown",
   "metadata": {
    "colab_type": "text",
    "id": "78wbCaipoKIy"
   },
   "source": [
    "# Find the most positive (and negative) review"
   ]
  },
  {
   "cell_type": "markdown",
   "metadata": {
    "colab_type": "text",
    "id": "Sf95GN7qoKIz"
   },
   "source": [
    "We now turn to examining the full **validation_data** dataset <span style=\"color:red\">(not sample_data)</span>, , and use `sklearn` to form predictions on all of the data points for faster performance.\n",
    "\n",
    "Using the `sentiment_model`, find review/reviews in the **validation_data** with the **highest probability** of being classified as a **positive review**. We refer to this as the \"most positive review.\" Record the **first** occurrence of such a review on Gradescope. \n",
    "\n",
    "Hint: Once you know the index of the most positive/negative reviews, use the .iloc[] accessor on the DataFrame to get that row and find its name."
   ]
  },
  {
   "cell_type": "code",
   "execution_count": 157,
   "metadata": {
    "colab": {
     "base_uri": "https://localhost:8080/",
     "height": 105
    },
    "colab_type": "code",
    "id": "dNzII4KgoKI0",
    "outputId": "ebec4c13-90f2-4d99-e196-b519c5bbe36e"
   },
   "outputs": [
    {
     "name": "stdout",
     "output_type": "stream",
     "text": [
      "most pos index = 48  \tprob = 0.9999999999999953\n",
      "most neg index = 153  \tprob = 1.0\n",
      "I give the product 5 stars  These peanuts have always been my favorite  The price with subscribe and save is terrific especially when there is a coupon available  My peanuts came fresh and well packages  My biggest issue with these is they are so good that I can not eat just 1 serving or 2 for that matter  So 1 star for my willpower and 5 stars for the peanuts\n",
      "I give this product two stars because there are no artificial ingredients and it is 75 organic That is all it has going for itIm trying to go all natural and organic with all my purchases I saw this for about 5 for the five pack and since the price was comparable to the Velveeta version which is far from all natural I bought itStirring the cheese sauce into the leftover water from cooking the macaroni took a few minutes I did not time it but it was more than two minutes My son would not eat it I made myself a package It tastes kind of like macaroni with Cheetos powder on it although I think Cheetos powder would taste better I wound up melting a piece of organic American Cheese on it and stirring that in to make it palatableI think Im going to try to figure out how to microwave a small amount of regular macaroni then melt cheese on it in the microwave to make my own macaroni and cheeseThis product was a big fail in my householdThis is the first Annies product that I have tried that I did not like Before trying this stuff I was 100 satisfied with Annies products\n"
     ]
    }
   ],
   "source": [
    "# TODO\n",
    "probabilities = sentiment_model.predict_proba(validation_data[features])\n",
    "max_neg, max_pos = np.argmax(probabilities,axis=0)\n",
    "print(\"most pos index =\",max_pos,\" \\tprob =\",probabilities[max_pos,1])\n",
    "print(\"most neg index =\",max_neg,\" \\tprob =\",probabilities[max_neg,0])\n",
    "print(validation_data.iloc[max_pos]['review_clean'])\n",
    "print(validation_data.iloc[max_neg]['review_clean'])"
   ]
  },
  {
   "cell_type": "markdown",
   "metadata": {
    "colab_type": "text",
    "id": "hXfYocsfoKI4"
   },
   "source": [
    "**Question 3**: Using the sentiment model with validation_data, which product has the most positive review? \n",
    "* Kellogg's Frosted Flakes\n",
    "* sugar cubes\n",
    "* Zico coconut water\n",
    "* canned soup\n",
    "* Pecan Shortbread\n",
    "\n",
    "**Question 4**: Using the sentiment model with validation_data, which product has the most negative review?\n",
    "* Kellogg's Frosted Flakes\n",
    "* peppermint tea\n",
    "* Zico coconut water\n",
    "* Newmann Organic Product\n",
    "* Pecan Shortbread\n",
    "\n"
   ]
  },
  {
   "cell_type": "markdown",
   "metadata": {
    "colab_type": "text",
    "id": "3nH3u9b8pX_D"
   },
   "source": [
    "# Create a confusion matrix\n",
    "\n",
    "A common tool in dealing with classification is the confusion matrix.\n",
    "\n",
    "We've created a function that will plot a confusion matrix for you given a set of inputs which are the values that should appear within each cell.\n",
    "Recall that there are four values associated with a confusion matrix: true positive, true negative, false positive, and false negative which we will abberviate as TP, TN, FP, and FN, respecitvely. "
   ]
  },
  {
   "cell_type": "code",
   "execution_count": 0,
   "metadata": {
    "colab": {},
    "colab_type": "code",
    "id": "MMJbJAmxZURy"
   },
   "outputs": [],
   "source": [
    "def plot_confusion_matrix(tp, fp, fn, tn):\n",
    "    \"\"\"\n",
    "    Plots a confusion matrix using the values \n",
    "       tp - True Positive\n",
    "       fp - False Positive\n",
    "       fn - False Negative\n",
    "       tn - True Negative\n",
    "    \"\"\"\n",
    "    data = np.matrix([[tp, fp], [fn, tn]])\n",
    "\n",
    "    sns.heatmap(data,annot=True,xticklabels=['Actual Pos', 'Actual Neg']\n",
    "              ,yticklabels=['Pred. Pos', 'Pred. Neg'])\n"
   ]
  },
  {
   "cell_type": "markdown",
   "metadata": {
    "colab_type": "text",
    "id": "GE-uR6OBeNMr"
   },
   "source": [
    "Write code below that uses the `plot_confusion_matrix` function to show the number of true positive, true negative, false positive, and false negative predictions made by your classifier. You might find it useful to use named parameters here (i.e. you can call `plot_confusion_matrix(tp=X, fp=Y, fn=A, tn=B)` instead of having to get the order of tha parameters correct)"
   ]
  },
  {
   "cell_type": "code",
   "execution_count": 175,
   "metadata": {
    "colab": {
     "base_uri": "https://localhost:8080/",
     "height": 265
    },
    "colab_type": "code",
    "id": "HJO0icupeMro",
    "outputId": "f3d2fbb2-ac25-43d0-eddb-030e8ef0cf58"
   },
   "outputs": [
    {
     "data": {
      "image/png": "[encoded data removed]",
      "text/plain": [
       "<Figure size 432x288 with 2 Axes>"
      ]
     },
     "metadata": {
      "needs_background": "light",
      "tags": []
     },
     "output_type": "display_data"
    }
   ],
   "source": [
    "# TODO\n",
    "tp = fp = fn = tn = 0\n",
    "predictions = sentiment_model.predict(validation_data[features])\n",
    "labels = list(validation_data['sentiment'])\n",
    "for i in range(0, len(validation_data)):\n",
    "    if (predictions[i]>0):\n",
    "        if (predictions[i]==labels[i]):\n",
    "            tp+=1\n",
    "        else: \n",
    "            fp+=1\n",
    "    else:\n",
    "        if (predictions[i]==labels[i]):\n",
    "            tn+=1\n",
    "        else: \n",
    "            fn+=1\n",
    "plot_confusion_matrix(tp, fp, fn, tn)"
   ]
  },
  {
   "cell_type": "markdown",
   "metadata": {
    "colab_type": "text",
    "id": "kwMwc9DJfGry"
   },
   "source": [
    "**Question 5:** Using the sentiment_model on the validation_data, how many products are classified as having negative sentiment that should be classified as having a positive sentiment?"
   ]
  },
  {
   "cell_type": "markdown",
   "metadata": {
    "colab_type": "text",
    "id": "cPgLBPoKw5s_"
   },
   "source": [
    "# Calculating Accuracy\n",
    "\n",
    "Now that we have succesfully trained a model, let's compare the accuracy of the sentiment_model to that of the baseline classifier.\n",
    "\n",
    "Below, calculate the accuracy of each model using sklearn's [accuracy_score](https://scikit-learn.org/stable/modules/generated/sklearn.metrics.accuracy_score.html) function."
   ]
  },
  {
   "cell_type": "code",
   "execution_count": 191,
   "metadata": {
    "colab": {
     "base_uri": "https://localhost:8080/",
     "height": 51
    },
    "colab_type": "code",
    "id": "C7nVSy4nxbX6",
    "outputId": "cef8ae3a-5495-4180-c314-db4a50c0df6c"
   },
   "outputs": [
    {
     "name": "stdout",
     "output_type": "stream",
     "text": [
      "baseline accuracy on test = 0.5664739884393064\n",
      "sentiment_model accuracy on test = 0.8092485549132948\n"
     ]
    }
   ],
   "source": [
    "# TODO\n",
    "print(\"baseline accuracy on test =\",accuracy_score(test_data['sentiment'], [majority]*len(test_data)))\n",
    "print(\"sentiment_model accuracy on test =\",accuracy_score(test_data['sentiment'], sentiment_model.predict(test_data[features])))"
   ]
  },
  {
   "cell_type": "markdown",
   "metadata": {
    "colab_type": "text",
    "id": "qRtiIFI6xcAw"
   },
   "source": [
    "**Question 6:** Based on their respect accuracies, which model would we expect to perform better on unseen data?"
   ]
  },
  {
   "cell_type": "markdown",
   "metadata": {
    "colab_type": "text",
    "id": "W1QAQLi2oKJE"
   },
   "source": [
    "### Logistic Regression with L2 regularization\n",
    "\n",
    "One of the challenges of creating features from each word is that there are many more features than observations. It is easy to overfit. We will explore the effect of the regularization on this problem."
   ]
  },
  {
   "cell_type": "markdown",
   "metadata": {
    "colab_type": "text",
    "id": "FIMO7sWJoKJH"
   },
   "source": [
    "Now that we have written up all the pieces needed for regularized logistic regression, let's explore the benefits of using **L2 regularization** in analyzing sentiment for product reviews. **As iterations pass, the log likelihood should increase**.\n",
    "\n",
    "Below, we train models with increasing amounts of regularization, starting with no L2 penalty, which is equivalent to our simple logistic regression implementation."
   ]
  },
  {
   "cell_type": "markdown",
   "metadata": {
    "colab_type": "text",
    "id": "KDnMQgCAoKJI"
   },
   "source": [
    "**TASK:** Train a model with the `feature_names` as features for each of the `l2_penalties` to predict the target `sentiment`. Add a column to `table` with the respective `column_name`, and save the coefficients with the model.\n",
    "\n",
    "You should end up with an DataFrame with column names as 'coefficients \\[L2=1\\]', ... 'coefficients \\[L2=1e5\\]', and a row for each word in `feature_names`.\n",
    "\n",
    "Use `random_state = 1` to get the same results.\n",
    "\n",
    "**Hint**: You might want to use numpy.transpose() at the end.\n",
    "\n",
    "**Note**: Set `fit_intercept = False`.\n",
    "\n",
    "<span style=\"color:red\">Note: when constructing the LogisticRegression(...) model, the parameter `C` is the **inverse** of the L2 penalty (1 / L2_penalty). </span>"
   ]
  },
  {
   "cell_type": "code",
   "execution_count": 204,
   "metadata": {
    "colab": {
     "base_uri": "https://localhost:8080/",
     "height": 204
    },
    "colab_type": "code",
    "id": "btYFyFPxoKJI",
    "outputId": "bc7a8f55-364f-4afa-e02d-a37af4165e3b"
   },
   "outputs": [
    {
     "data": {
      "text/html": [
       "<div>\n",
       "<style scoped>\n",
       "    .dataframe tbody tr th:only-of-type {\n",
       "        vertical-align: middle;\n",
       "    }\n",
       "\n",
       "    .dataframe tbody tr th {\n",
       "        vertical-align: top;\n",
       "    }\n",
       "\n",
       "    .dataframe thead th {\n",
       "        text-align: right;\n",
       "    }\n",
       "</style>\n",
       "<table border=\"1\" class=\"dataframe\">\n",
       "  <thead>\n",
       "    <tr style=\"text-align: right;\">\n",
       "      <th></th>\n",
       "      <th>word</th>\n",
       "      <th>coefficients [L2=1]</th>\n",
       "      <th>coefficients [L2=4]</th>\n",
       "      <th>coefficients [L2=10]</th>\n",
       "      <th>coefficients [L2=1e2]</th>\n",
       "      <th>coefficients [L2=1e3]</th>\n",
       "      <th>coefficients [L2=1e5]</th>\n",
       "    </tr>\n",
       "  </thead>\n",
       "  <tbody>\n",
       "    <tr>\n",
       "      <th>0</th>\n",
       "      <td></td>\n",
       "      <td>0.039932</td>\n",
       "      <td>0.030597</td>\n",
       "      <td>0.027102</td>\n",
       "      <td>0.026090</td>\n",
       "      <td>0.019582</td>\n",
       "      <td>-0.000500</td>\n",
       "    </tr>\n",
       "    <tr>\n",
       "      <th>1</th>\n",
       "      <td>0</td>\n",
       "      <td>0.137752</td>\n",
       "      <td>0.108966</td>\n",
       "      <td>0.087793</td>\n",
       "      <td>0.029444</td>\n",
       "      <td>0.003514</td>\n",
       "      <td>0.000027</td>\n",
       "    </tr>\n",
       "    <tr>\n",
       "      <th>2</th>\n",
       "      <td>0000</td>\n",
       "      <td>0.045107</td>\n",
       "      <td>0.023884</td>\n",
       "      <td>0.013162</td>\n",
       "      <td>0.002197</td>\n",
       "      <td>0.000387</td>\n",
       "      <td>0.000005</td>\n",
       "    </tr>\n",
       "    <tr>\n",
       "      <th>3</th>\n",
       "      <td>002</td>\n",
       "      <td>-0.001946</td>\n",
       "      <td>-0.001643</td>\n",
       "      <td>-0.001363</td>\n",
       "      <td>-0.000672</td>\n",
       "      <td>-0.000173</td>\n",
       "      <td>-0.000004</td>\n",
       "    </tr>\n",
       "    <tr>\n",
       "      <th>4</th>\n",
       "      <td>004</td>\n",
       "      <td>-0.001946</td>\n",
       "      <td>-0.001643</td>\n",
       "      <td>-0.001363</td>\n",
       "      <td>-0.000672</td>\n",
       "      <td>-0.000173</td>\n",
       "      <td>-0.000004</td>\n",
       "    </tr>\n",
       "  </tbody>\n",
       "</table>\n",
       "</div>"
      ],
      "text/plain": [
       "   word  coefficients [L2=1]  ...  coefficients [L2=1e3]  coefficients [L2=1e5]\n",
       "0                   0.039932  ...               0.019582              -0.000500\n",
       "1     0             0.137752  ...               0.003514               0.000027\n",
       "2  0000             0.045107  ...               0.000387               0.000005\n",
       "3   002            -0.001946  ...              -0.000173              -0.000004\n",
       "4   004            -0.001946  ...              -0.000173              -0.000004\n",
       "\n",
       "[5 rows x 7 columns]"
      ]
     },
     "execution_count": 204,
     "metadata": {
      "tags": []
     },
     "output_type": "execute_result"
    }
   ],
   "source": [
    "# TODO Fill in the loop\n",
    "l2_penalties = [1, 4, 10, 1e2, 1e3, 1e5]\n",
    "l2_penalty_names = ['coefficients [L2=1]', 'coefficients [L2=4]', 'coefficients [L2=10]', \n",
    "                    'coefficients [L2=1e2]', 'coefficients [L2=1e3]', 'coefficients [L2=1e5]']\n",
    "\n",
    "# Add the coefficients to this table for each model\n",
    "table = pd.DataFrame(columns = ['word'] + l2_penalty_names)\n",
    "table['word'] = feature_names\n",
    "\n",
    "for l2_penalty, column_name in zip(l2_penalties, l2_penalty_names):\n",
    "    # TODO: Train the model and save the coefficients\n",
    "    model = LogisticRegression(penalty='l2', random_state = 1, C = 1/l2_penalty, fit_intercept = False)\n",
    "    model.fit(train_data[features], train_data['sentiment'])\n",
    "    table[column_name] = model.coef_[0]\n",
    "table.head()"
   ]
  },
  {
   "cell_type": "markdown",
   "metadata": {
    "colab_type": "text",
    "id": "ph4NS_uAoKJP"
   },
   "source": [
    "## Look at the Coefficients\n",
    "\n",
    "We'll now look at the **coefficients** for the model that were trained above. We will create a table of features and learned coefficients associated with each of the different L2 penalty values.\n",
    "\n",
    "Below is a simple helper function that will help us create this table."
   ]
  },
  {
   "cell_type": "markdown",
   "metadata": {
    "colab_type": "text",
    "id": "Qsv5qKnkoKJQ"
   },
   "source": [
    "Using **the coefficients trained with L2 penalty 1**, find the 5 most positive words (with largest positive coefficients). Save them to **positive_words**. Similarly, find the 5 most negative words (with largest negative coefficients) and save them to **negative_words**.\n",
    "\n",
    "**Question 7:** Which of the following appears in neither positive_words nor negative_words?\n",
    "\n",
    "* best\n",
    "* not\n",
    "* tastes\n",
    "* bad\n",
    "* was\n",
    "\n",
    "\n",
    "**Hint:** You can use the `.nlargest()`and `.nsmallest()` method on an DataFrame to find the top k rows sorted according to the value of a specified column."
   ]
  },
  {
   "cell_type": "code",
   "execution_count": 212,
   "metadata": {
    "colab": {
     "base_uri": "https://localhost:8080/",
     "height": 221
    },
    "colab_type": "code",
    "id": "ITQA7FG7HQ4f",
    "outputId": "51f64a58-f2c0-49a2-dc10-770b035c45df"
   },
   "outputs": [
    {
     "name": "stdout",
     "output_type": "stream",
     "text": [
      "7620        great\n",
      "6538         easy\n",
      "1693        Great\n",
      "4598         best\n",
      "6056    delicious\n",
      "Name: word, dtype: object\n",
      "2501        Not\n",
      "4673      bland\n",
      "12961     tried\n",
      "9564        not\n",
      "4657     bitter\n",
      "Name: word, dtype: object\n"
     ]
    }
   ],
   "source": [
    "# TODO\n",
    "positive_words = table.nlargest(5, 'coefficients [L2=1]')['word']\n",
    "negative_words = table.nsmallest(5, 'coefficients [L2=1]')['word']\n",
    "print(positive_words)\n",
    "print(negative_words)"
   ]
  },
  {
   "cell_type": "markdown",
   "metadata": {
    "colab_type": "text",
    "id": "3VUHUPkUoKJT"
   },
   "source": [
    "Let us observe the effect of increasing L2 penalty on the 10 words just selected. We provide you with a utility function to  plot the coefficient path."
   ]
  },
  {
   "cell_type": "code",
   "execution_count": 0,
   "metadata": {
    "colab": {},
    "colab_type": "code",
    "id": "6BcgdwrooKJT"
   },
   "outputs": [],
   "source": [
    "plt.rcParams['figure.figsize'] = 10, 6\n",
    "\n",
    "def make_coefficient_plot(table, positive_words, negative_words, l2_penalty_list):\n",
    "    cmap_positive = plt.get_cmap('Reds')\n",
    "    cmap_negative = plt.get_cmap('Blues')\n",
    "    \n",
    "    xx = l2_penalty_list\n",
    "    plt.plot(xx, [0.]*len(xx), '--', lw=1, color='k')\n",
    "    \n",
    "    table_positive_words = table[table['word'].isin(positive_words)]\n",
    "    table_negative_words = table[table['word'].isin(negative_words)]\n",
    "    del table_positive_words['word']\n",
    "    del table_negative_words['word']\n",
    "    \n",
    "    for i in range(len(positive_words)):\n",
    "        color = cmap_positive(0.8*((i+1)/(len(positive_words)*1.2)+0.15))\n",
    "        plt.plot(xx, list(table_positive_words.iloc[i]),\n",
    "                 '-', label=positive_words.iloc[i], linewidth=4.0, color=color)\n",
    "        \n",
    "    for i in range(len(negative_words)):\n",
    "        color = cmap_negative(0.8*((i+1)/(len(negative_words)*1.2)+0.15))\n",
    "        plt.plot(xx, list(table_negative_words.iloc[i]),\n",
    "                 '-', label=negative_words.iloc[i], linewidth=4.0, color=color)\n",
    "        \n",
    "    plt.legend(loc='best', ncol=3, prop={'size':16}, columnspacing=0.5)\n",
    "    plt.axis([1, 1e5, -3, 2])\n",
    "    plt.title('Coefficient path')\n",
    "    plt.xlabel('L2 penalty ($\\lambda$)')\n",
    "    plt.ylabel('Coefficient value')\n",
    "    plt.xscale('log')\n",
    "    plt.rcParams.update({'font.size': 18})\n",
    "    plt.tight_layout()"
   ]
  },
  {
   "cell_type": "markdown",
   "metadata": {
    "colab_type": "text",
    "id": "1ywpmsZBoKJV"
   },
   "source": [
    "Run the following cell to generate the plot. Use the plot to answer the following quiz question."
   ]
  },
  {
   "cell_type": "code",
   "execution_count": 213,
   "metadata": {
    "colab": {
     "base_uri": "https://localhost:8080/",
     "height": 424
    },
    "colab_type": "code",
    "id": "sL58jNKboKJV",
    "outputId": "0a125da0-ac3e-476c-d1ae-9bcda499d367"
   },
   "outputs": [
    {
     "data": {
      "image/png": "[encoded data removed]",
      "text/plain": [
       "<Figure size 720x432 with 1 Axes>"
      ]
     },
     "metadata": {
      "needs_background": "light",
      "tags": []
     },
     "output_type": "display_data"
    }
   ],
   "source": [
    "make_coefficient_plot(table, positive_words, negative_words, l2_penalty_list=[1, 4, 10, 1e2, 1e3, 1e5])"
   ]
  },
  {
   "cell_type": "markdown",
   "metadata": {
    "colab_type": "text",
    "id": "vVovzZCd1gDn"
   },
   "source": [
    "Calculate how the accuracy on the validation data changes with the increase of the l2 penalty. "
   ]
  },
  {
   "cell_type": "code",
   "execution_count": 218,
   "metadata": {
    "colab": {
     "base_uri": "https://localhost:8080/",
     "height": 119
    },
    "colab_type": "code",
    "id": "4s9hJNhn2EEL",
    "outputId": "bcf4372e-159c-40ca-d23b-23c1a9c73061"
   },
   "outputs": [
    {
     "name": "stdout",
     "output_type": "stream",
     "text": [
      "l2_penalty = 1 \taccuracy on validation = 0.7630057803468208\n",
      "l2_penalty = 4 \taccuracy on validation = 0.7687861271676301\n",
      "l2_penalty = 10 \taccuracy on validation = 0.7687861271676301\n",
      "l2_penalty = 100.0 \taccuracy on validation = 0.7687861271676301\n",
      "l2_penalty = 1000.0 \taccuracy on validation = 0.7109826589595376\n",
      "l2_penalty = 100000.0 \taccuracy on validation = 0.5317919075144508\n"
     ]
    }
   ],
   "source": [
    "# TODO\n",
    "for l2_penalty in l2_penalties:\n",
    "    # TODO: Train the model and save the coefficients\n",
    "    model = LogisticRegression(penalty='l2', random_state = 1, C = 1/l2_penalty, fit_intercept = False)\n",
    "    model.fit(train_data[features], train_data['sentiment'])\n",
    "    print(\"l2_penalty =\", l2_penalty, \"\\taccuracy on validation =\", accuracy_score(validation_data['sentiment'], model.predict(validation_data[features])))"
   ]
  },
  {
   "cell_type": "markdown",
   "metadata": {
    "colab_type": "text",
    "id": "9S9HQ4gboKJW"
   },
   "source": [
    "**Question 9**: What is the effect on the accuracy on unseen data for the ridge regression prediction as you make lambda *very large*?\n",
    "* increases\n",
    "* decreases "
   ]
  },
  {
   "cell_type": "markdown",
   "metadata": {
    "colab_type": "text",
    "id": "r4nEE6sc9-qw"
   },
   "source": [
    "Do you have an explanation of why this happens. (Optional) Compare the results with l1 LASSO regression."
   ]
  }
 ],
 "metadata": {
  "colab": {
   "collapsed_sections": [],
   "name": "A3_Sentiment_Analysis_Logistic_Regression.ipynb",
   "provenance": []
  },
  "kernelspec": {
   "display_name": "Python 3",
   "language": "python",
   "name": "python3"
  },
  "language_info": {
   "codemirror_mode": {
    "name": "ipython",
    "version": 3
   },
   "file_extension": ".py",
   "mimetype": "text/x-python",
   "name": "python",
   "nbconvert_exporter": "python",
   "pygments_lexer": "ipython3",
   "version": "3.7.6"
  }
 },
 "nbformat": 4,
 "nbformat_minor": 1
}
