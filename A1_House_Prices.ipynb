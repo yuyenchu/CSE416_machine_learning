{
 "cells": [
  {
   "cell_type": "markdown",
   "metadata": {
    "colab_type": "text",
    "id": "6-bEK5jIjzHe"
   },
   "source": [
    "# Assignment 1 House Prices\n",
    "\n",
    "### Due: Tuesday, April 15th, 11:59 pm, PDT on Gradescope.\n",
    "\n",
    "In this assignment we'll practice working with `pandas` `DataFrames` and train a linear regression model to predict house prices.\n",
    "\n",
    "Fill in the cells provided marked `TODO` with code to answer the questions. **Unless otherwise noted, every answer you submit should have code that clearly shows the answer in output.** Answers submitted that do not have associated code that shows the answer may not be accepted for credit. It is generally a good idea to restart the kernel and run all cells (especially before turning it in) to make sure your code runs correctly.\n",
    "\n",
    "Answer the questions on Gradescope and make sure you upload your notebook in the Upload section.\n",
    "\n",
    "Note, you are not allowed to share any portions of this notebook outside of this class.\n",
    "\n",
    "> Copyright ©2019 Emily Fox and Hunter Schafer.  All rights reserved.  Permission is hereby granted to students registered for University of Washington CSE/STAT 416 for use solely during Spring Quarter 2020 for purposes of the course.  No other use, copying, distribution, or modification is permitted without prior written consent. Copyrights for third-party components of this work must be honored.  Instructors interested in reusing these course materials should contact the author."
   ]
  },
  {
   "cell_type": "code",
   "execution_count": 0,
   "metadata": {
    "colab": {},
    "colab_type": "code",
    "id": "HgA09QyRj3_l"
   },
   "outputs": [],
   "source": [
    "# This cell is necessary only if you are running on Google Colab\n",
    "\n",
    "import requests\n",
    "\n",
    "def save_file(url, file_name):\n",
    "  r = requests.get(url)\n",
    "  with open(file_name, 'wb') as f:\n",
    "    f.write(r.content)\n",
    "\n",
    "save_file('https://homes.cs.washington.edu/~hschafer/cse416/a1/home_data.csv',\n",
    "          'home_data.csv')"
   ]
  },
  {
   "cell_type": "code",
   "execution_count": 0,
   "metadata": {
    "colab": {},
    "colab_type": "code",
    "id": "r_YCORZUjzHf"
   },
   "outputs": [],
   "source": [
    "# Conventionally people rename the pandas import to pd for brevity\n",
    "import pandas as pd"
   ]
  },
  {
   "cell_type": "code",
   "execution_count": 4,
   "metadata": {
    "colab": {
     "base_uri": "https://localhost:8080/",
     "height": 224
    },
    "colab_type": "code",
    "id": "IEMVxMlUjzHk",
    "outputId": "0888e5e0-88ae-4263-dbe1-40a1a3a564c0"
   },
   "outputs": [
    {
     "data": {
      "text/html": [
       "<div>\n",
       "<style scoped>\n",
       "    .dataframe tbody tr th:only-of-type {\n",
       "        vertical-align: middle;\n",
       "    }\n",
       "\n",
       "    .dataframe tbody tr th {\n",
       "        vertical-align: top;\n",
       "    }\n",
       "\n",
       "    .dataframe thead th {\n",
       "        text-align: right;\n",
       "    }\n",
       "</style>\n",
       "<table border=\"1\" class=\"dataframe\">\n",
       "  <thead>\n",
       "    <tr style=\"text-align: right;\">\n",
       "      <th></th>\n",
       "      <th>id</th>\n",
       "      <th>date</th>\n",
       "      <th>price</th>\n",
       "      <th>bedrooms</th>\n",
       "      <th>bathrooms</th>\n",
       "      <th>sqft_living</th>\n",
       "      <th>sqft_lot</th>\n",
       "      <th>floors</th>\n",
       "      <th>waterfront</th>\n",
       "      <th>view</th>\n",
       "      <th>condition</th>\n",
       "      <th>grade</th>\n",
       "      <th>sqft_above</th>\n",
       "      <th>sqft_basement</th>\n",
       "      <th>yr_built</th>\n",
       "      <th>yr_renovated</th>\n",
       "      <th>zipcode</th>\n",
       "      <th>lat</th>\n",
       "      <th>long</th>\n",
       "      <th>sqft_living15</th>\n",
       "      <th>sqft_lot15</th>\n",
       "    </tr>\n",
       "  </thead>\n",
       "  <tbody>\n",
       "    <tr>\n",
       "      <th>0</th>\n",
       "      <td>7129300520</td>\n",
       "      <td>20141013T000000</td>\n",
       "      <td>221900</td>\n",
       "      <td>3</td>\n",
       "      <td>1.00</td>\n",
       "      <td>1180</td>\n",
       "      <td>5650</td>\n",
       "      <td>1.0</td>\n",
       "      <td>0</td>\n",
       "      <td>0</td>\n",
       "      <td>3</td>\n",
       "      <td>7</td>\n",
       "      <td>1180</td>\n",
       "      <td>0</td>\n",
       "      <td>1955</td>\n",
       "      <td>0</td>\n",
       "      <td>98178</td>\n",
       "      <td>47.5112</td>\n",
       "      <td>-122.257</td>\n",
       "      <td>1340</td>\n",
       "      <td>5650</td>\n",
       "    </tr>\n",
       "    <tr>\n",
       "      <th>1</th>\n",
       "      <td>6414100192</td>\n",
       "      <td>20141209T000000</td>\n",
       "      <td>538000</td>\n",
       "      <td>3</td>\n",
       "      <td>2.25</td>\n",
       "      <td>2570</td>\n",
       "      <td>7242</td>\n",
       "      <td>2.0</td>\n",
       "      <td>0</td>\n",
       "      <td>0</td>\n",
       "      <td>3</td>\n",
       "      <td>7</td>\n",
       "      <td>2170</td>\n",
       "      <td>400</td>\n",
       "      <td>1951</td>\n",
       "      <td>1991</td>\n",
       "      <td>98125</td>\n",
       "      <td>47.7210</td>\n",
       "      <td>-122.319</td>\n",
       "      <td>1690</td>\n",
       "      <td>7639</td>\n",
       "    </tr>\n",
       "    <tr>\n",
       "      <th>2</th>\n",
       "      <td>5631500400</td>\n",
       "      <td>20150225T000000</td>\n",
       "      <td>180000</td>\n",
       "      <td>2</td>\n",
       "      <td>1.00</td>\n",
       "      <td>770</td>\n",
       "      <td>10000</td>\n",
       "      <td>1.0</td>\n",
       "      <td>0</td>\n",
       "      <td>0</td>\n",
       "      <td>3</td>\n",
       "      <td>6</td>\n",
       "      <td>770</td>\n",
       "      <td>0</td>\n",
       "      <td>1933</td>\n",
       "      <td>0</td>\n",
       "      <td>98028</td>\n",
       "      <td>47.7379</td>\n",
       "      <td>-122.233</td>\n",
       "      <td>2720</td>\n",
       "      <td>8062</td>\n",
       "    </tr>\n",
       "    <tr>\n",
       "      <th>3</th>\n",
       "      <td>2487200875</td>\n",
       "      <td>20141209T000000</td>\n",
       "      <td>604000</td>\n",
       "      <td>4</td>\n",
       "      <td>3.00</td>\n",
       "      <td>1960</td>\n",
       "      <td>5000</td>\n",
       "      <td>1.0</td>\n",
       "      <td>0</td>\n",
       "      <td>0</td>\n",
       "      <td>5</td>\n",
       "      <td>7</td>\n",
       "      <td>1050</td>\n",
       "      <td>910</td>\n",
       "      <td>1965</td>\n",
       "      <td>0</td>\n",
       "      <td>98136</td>\n",
       "      <td>47.5208</td>\n",
       "      <td>-122.393</td>\n",
       "      <td>1360</td>\n",
       "      <td>5000</td>\n",
       "    </tr>\n",
       "    <tr>\n",
       "      <th>4</th>\n",
       "      <td>1954400510</td>\n",
       "      <td>20150218T000000</td>\n",
       "      <td>510000</td>\n",
       "      <td>3</td>\n",
       "      <td>2.00</td>\n",
       "      <td>1680</td>\n",
       "      <td>8080</td>\n",
       "      <td>1.0</td>\n",
       "      <td>0</td>\n",
       "      <td>0</td>\n",
       "      <td>3</td>\n",
       "      <td>8</td>\n",
       "      <td>1680</td>\n",
       "      <td>0</td>\n",
       "      <td>1987</td>\n",
       "      <td>0</td>\n",
       "      <td>98074</td>\n",
       "      <td>47.6168</td>\n",
       "      <td>-122.045</td>\n",
       "      <td>1800</td>\n",
       "      <td>7503</td>\n",
       "    </tr>\n",
       "  </tbody>\n",
       "</table>\n",
       "</div>"
      ],
      "text/plain": [
       "           id             date   price  ...     long  sqft_living15  sqft_lot15\n",
       "0  7129300520  20141013T000000  221900  ... -122.257           1340        5650\n",
       "1  6414100192  20141209T000000  538000  ... -122.319           1690        7639\n",
       "2  5631500400  20150225T000000  180000  ... -122.233           2720        8062\n",
       "3  2487200875  20141209T000000  604000  ... -122.393           1360        5000\n",
       "4  1954400510  20150218T000000  510000  ... -122.045           1800        7503\n",
       "\n",
       "[5 rows x 21 columns]"
      ]
     },
     "execution_count": 4,
     "metadata": {
      "tags": []
     },
     "output_type": "execute_result"
    }
   ],
   "source": [
    "sales = pd.read_csv('home_data.csv') \n",
    "sales.head()"
   ]
  },
  {
   "cell_type": "markdown",
   "metadata": {
    "colab_type": "text",
    "id": "jpAuxYFFjzHn"
   },
   "source": [
    "---\n",
    "### Q1) Exploring the data.\n",
    "This question asks you to explore the dataset we will be using. Answer these three questions\n",
    "\n",
    "* How many houses do we have in our data set? This should correspond to the number of rows in the dataset.\n",
    "* Which column are we trying to predict given the other features (i.e. what's our output `y`)? \n",
    "* How many inputs do we have in total in the data set (i.e. what is the size of our input `x`)?\n",
    "\n",
    "You do not need to write code to answer the second bullet, but the others should be answered in the cells below. \n",
    "\n",
    "*Hint:* You can use `len()` to get the length of anything in python. Note that when you use it on a DataFrame, it will give you the number of rows, not columns.\n",
    "\n",
    "\n",
    "\n",
    "<div class=\"alert alert-block alert-success\">\n",
    "<b>Options:</b> Enter one of these options on Gradescope.\n",
    "<ul>\n",
    "    <li>21613 houses, price, 20</li>\n",
    "    <li>21613 houses, bedrooms, 21</li>\n",
    "    <li>22014 houses, price, 21</li>\n",
    "    <li>22014 houses, bedrooms, 20</li>\n",
    "    <li>21613 houses, price, 21</li>\n",
    "</ul>\n",
    "</div>\n"
   ]
  },
  {
   "cell_type": "code",
   "execution_count": 10,
   "metadata": {
    "colab": {
     "base_uri": "https://localhost:8080/",
     "height": 34
    },
    "colab_type": "code",
    "id": "9HtaEyxCjzHo",
    "outputId": "b376ce6c-ebc8-4d30-dfe3-72746c378598"
   },
   "outputs": [
    {
     "name": "stdout",
     "output_type": "stream",
     "text": [
      "21613 houses\n"
     ]
    }
   ],
   "source": [
    "# TODO: How many houses are there?\n",
    "print(len(sales),\"houses\")"
   ]
  },
  {
   "cell_type": "code",
   "execution_count": 11,
   "metadata": {
    "colab": {
     "base_uri": "https://localhost:8080/",
     "height": 34
    },
    "colab_type": "code",
    "id": "g1Jm3yuijzHt",
    "outputId": "8be67b6f-dde3-4743-8dfe-49eb4dc9f715"
   },
   "outputs": [
    {
     "name": "stdout",
     "output_type": "stream",
     "text": [
      "inputs: 20 output: 1\n"
     ]
    }
   ],
   "source": [
    "# TODO: How many inputs are there?\n",
    "out_len=list(sales.columns).count('price')\n",
    "in_len=len(sales.columns)-out_len\n",
    "print(\"inputs:\",in_len,\"output:\",out_len)"
   ]
  },
  {
   "cell_type": "markdown",
   "metadata": {
    "colab_type": "text",
    "id": "x1R0ACkTjzHx"
   },
   "source": [
    "---\n",
    "### Q2) What is the average price of houses with 3 bedrooms?\n",
    "**To solve this problem, you should write code that prints out the average price for every number of bedrooms**, but we only want you to report the number for 3 bedrooms in Gradescope. \n",
    "\n",
    "To do this, you will want to do the following steps\n",
    "* Find the maximum number of bedrooms in the dataset\n",
    "* Make a loop that goes from 0 to that number\n",
    "* For each number of bedrooms, compute the average price of the houses with that number of bedrooms. Print out both the number of bedrooms and the average price of houses with that number of bedrooms.\n",
    "\n",
    "It's expected there will be some number of bedrooms between 0 and the max that don't have any houses. If you have `pandas` compute the mean, it will return the value `nan` which means \"Not a Number\". You don't have to handle this case specially, printing `nan` is fine. Additionally, there may be some data entry errors from the original dataset so you might see some results that look a bit odd (this is expected and happens ALL the time with real-world datasets).\n",
    "\n",
    "<div class=\"alert alert-block alert-success\">\n",
    "<b>Options:</b> Enter one of these options on Gradescope.\n",
    "<ul>\n",
    "    <li><code>nan</code></li>\n",
    "    <li>401,372</li>\n",
    "    <li>466,232</li>\n",
    "    <li>635,419</li>\n",
    "    <li>786,599</li>\n",
    "</ul>\n",
    "</div>"
   ]
  },
  {
   "cell_type": "code",
   "execution_count": 24,
   "metadata": {
    "colab": {
     "base_uri": "https://localhost:8080/",
     "height": 595
    },
    "colab_type": "code",
    "id": "5SXDgkI3jzHy",
    "outputId": "4acd8c89-b7ae-4e62-dda9-0b02c5f3b87b"
   },
   "outputs": [
    {
     "name": "stdout",
     "output_type": "stream",
     "text": [
      "avg price of houses with 0 bedroom(s): 409503.6923076923\n",
      "avg price of houses with 1 bedroom(s): 317642.88442211057\n",
      "avg price of houses with 2 bedroom(s): 401372.6811594203\n",
      "avg price of houses with 3 bedroom(s): 466232.07949918567\n",
      "avg price of houses with 4 bedroom(s): 635419.5050857309\n",
      "avg price of houses with 5 bedroom(s): 786599.8232354778\n",
      "avg price of houses with 6 bedroom(s): 825520.6360294118\n",
      "avg price of houses with 7 bedroom(s): 951184.6578947369\n",
      "avg price of houses with 8 bedroom(s): 1105076.923076923\n",
      "avg price of houses with 9 bedroom(s): 893999.8333333334\n",
      "avg price of houses with 10 bedroom(s): 819333.3333333334\n",
      "avg price of houses with 11 bedroom(s): 520000.0\n",
      "avg price of houses with 12 bedroom(s): nan\n",
      "avg price of houses with 13 bedroom(s): nan\n",
      "avg price of houses with 14 bedroom(s): nan\n",
      "avg price of houses with 15 bedroom(s): nan\n",
      "avg price of houses with 16 bedroom(s): nan\n",
      "avg price of houses with 17 bedroom(s): nan\n",
      "avg price of houses with 18 bedroom(s): nan\n",
      "avg price of houses with 19 bedroom(s): nan\n",
      "avg price of houses with 20 bedroom(s): nan\n",
      "avg price of houses with 21 bedroom(s): nan\n",
      "avg price of houses with 22 bedroom(s): nan\n",
      "avg price of houses with 23 bedroom(s): nan\n",
      "avg price of houses with 24 bedroom(s): nan\n",
      "avg price of houses with 25 bedroom(s): nan\n",
      "avg price of houses with 26 bedroom(s): nan\n",
      "avg price of houses with 27 bedroom(s): nan\n",
      "avg price of houses with 28 bedroom(s): nan\n",
      "avg price of houses with 29 bedroom(s): nan\n",
      "avg price of houses with 30 bedroom(s): nan\n",
      "avg price of houses with 31 bedroom(s): nan\n",
      "avg price of houses with 32 bedroom(s): nan\n",
      "avg price of houses with 33 bedroom(s): 640000.0\n"
     ]
    }
   ],
   "source": [
    "# TODO: Write code to print out all the average prices for each number of bedrooms\n",
    "max_bed=sales['bedrooms'].max()\n",
    "for i in range(0,max_bed+1):\n",
    "    print(\"avg price of houses with\",i,\"bedroom(s):\", sales[sales['bedrooms']==i]['price'].mean())\n"
   ]
  },
  {
   "cell_type": "markdown",
   "metadata": {
    "colab_type": "text",
    "id": "SXKo3-0rjzH0"
   },
   "source": [
    "---\n",
    "### Q3) What fraction of the properties are have `sqft_living` between 2000-4000?\n",
    "<div class=\"alert alert-block alert-success\">\n",
    "<b>Options:</b> Enter one of these options on Gradescope.\n",
    "<ul>\n",
    "    <li>0.2 - 0.3</li>\n",
    "    <li>0.3 - 0.4</li>\n",
    "    <li>0.4 - 0.5</li>\n",
    "    <li>0.5 - 0.6</li>\n",
    "    <li>0.6 - 0.7</li>\n",
    "</ul>\n",
    "</div>\n",
    " "
   ]
  },
  {
   "cell_type": "code",
   "execution_count": 40,
   "metadata": {
    "colab": {
     "base_uri": "https://localhost:8080/",
     "height": 34
    },
    "colab_type": "code",
    "id": "fxH1QcOOjzH1",
    "outputId": "0c8b62d1-e125-4f42-a913-796271289c29"
   },
   "outputs": [
    {
     "name": "stdout",
     "output_type": "stream",
     "text": [
      "0.4266413732475825\n"
     ]
    }
   ],
   "source": [
    "# TODO\n",
    "target=sales['sqft_living'].apply(lambda x: x>=2000 and x<=4000)\n",
    "print(len(sales[target])/len(sales))"
   ]
  },
  {
   "cell_type": "markdown",
   "metadata": {
    "colab_type": "text",
    "id": "Pe5fDbnvjzH4"
   },
   "source": [
    "---\n",
    "## Training a Linear Regression Model.\n",
    "\n",
    "We will now train a linear regression model to make useful predictions. Work through the steps below and then answer the following questions. Even though a lot of the code is pre-written, you should understand what it is doing! You may be asked to write some of this code on future assignments.\n",
    "\n",
    "First we split the data into a training set and a test set."
   ]
  },
  {
   "cell_type": "code",
   "execution_count": 0,
   "metadata": {
    "colab": {},
    "colab_type": "code",
    "id": "ETJ1D6GJjzH5"
   },
   "outputs": [],
   "source": [
    "from sklearn.model_selection import train_test_split \n",
    "train_data, test_data = train_test_split(sales, test_size = 0.2, random_state=0)  # random_state makes everything deterministic"
   ]
  },
  {
   "cell_type": "markdown",
   "metadata": {
    "colab_type": "text",
    "id": "MTjd9kn8jzH7"
   },
   "source": [
    "Lets plot some of the data to get a sense of what we are dealing with"
   ]
  },
  {
   "cell_type": "code",
   "execution_count": 42,
   "metadata": {
    "colab": {
     "base_uri": "https://localhost:8080/",
     "height": 307
    },
    "colab_type": "code",
    "id": "nJcdk5lsjzH8",
    "outputId": "0499370e-28c8-4733-e2e8-23999477adbe"
   },
   "outputs": [
    {
     "data": {
      "text/plain": [
       "Text(0, 0.5, 'Price')"
      ]
     },
     "execution_count": 42,
     "metadata": {
      "tags": []
     },
     "output_type": "execute_result"
    },
    {
     "data": {
      "image/png": "[encoded data removed]",
      "text/plain": [
       "<Figure size 432x288 with 1 Axes>"
      ]
     },
     "metadata": {
      "needs_background": "light",
      "tags": []
     },
     "output_type": "display_data"
    }
   ],
   "source": [
    "%matplotlib inline\n",
    "import matplotlib.pyplot as plt\n",
    "\n",
    "# plot primarily takes \n",
    "#plt.scatter(sales['sqft_living'], sales['price'], marker='.')\n",
    "plt.scatter(train_data['sqft_living'], train_data['price'], marker='+', label='Train')\n",
    "plt.scatter(test_data['sqft_living'], test_data['price'], marker='.', label='Test')\n",
    "\n",
    "# Code to customize the axis labels\n",
    "plt.legend()\n",
    "plt.xlabel('Sqft Living')\n",
    "plt.ylabel('Price')"
   ]
  },
  {
   "cell_type": "markdown",
   "metadata": {
    "colab_type": "text",
    "id": "GKyM0towjzH_"
   },
   "source": [
    "For this problem, we will look at using two sets of features derived from the data inputs. The basic set of features only contains a few data inputs while the advanced features contain them and more."
   ]
  },
  {
   "cell_type": "code",
   "execution_count": 0,
   "metadata": {
    "colab": {},
    "colab_type": "code",
    "id": "tq73hFtKjzIA"
   },
   "outputs": [],
   "source": [
    "basic_features = ['bedrooms', 'bathrooms', 'sqft_living', 'sqft_lot', 'floors', 'zipcode']"
   ]
  },
  {
   "cell_type": "code",
   "execution_count": 0,
   "metadata": {
    "colab": {},
    "colab_type": "code",
    "id": "oh9oCBhxjzIE"
   },
   "outputs": [],
   "source": [
    "advanced_features = basic_features + [\n",
    "    'condition',      # condition of the house\n",
    "    'grade',          # measure of qality of construction\n",
    "    'waterfront',     # waterfront property \n",
    "    'view',           # type of view\n",
    "    'sqft_above',     # square feet above ground\n",
    "    'sqft_basement',  # square feet in basementab\n",
    "    'yr_built',       # the year built\n",
    "    'yr_renovated',   # the year renovated\n",
    "    'lat',            # the longitude of the parcel\n",
    "    'long',           # the latitide of the parcel\n",
    "    'sqft_living15',  # average sq.ft. of 15 nearest neighbors \n",
    "    'sqft_lot15',     # average lot size of 15 nearest neighbors \n",
    "]"
   ]
  },
  {
   "cell_type": "markdown",
   "metadata": {
    "colab_type": "text",
    "id": "oRJYFB5hjzIG"
   },
   "source": [
    "---\n",
    "<div class=\"alert alert-block alert-info\">\n",
    "    <b>Note:</b> You have to do something for this section for the model training, but there is no answer to submit on Gradescope!\n",
    "</div>\n",
    "\n",
    "In the following cell, you should train two linear regression models\n",
    "* The first should be saved in a variable called `basic_model` that only uses the basic features\n",
    "* The seconod should be saved in a variable called `advanced_model` that uses the advanced features\n",
    "\n",
    "Look at the [fit()](https://scikit-learn.org/stable/modules/generated/sklearn.linear_model.LinearRegression.html) function in the API documentation to figure out how to use it. You will also need to import the `LinearRegression` class.\n",
    "\n",
    "Notice that our goal is to eventually make a prediction of how the model will do in the future. You should keep this in mind when deciding which datasets to use where."
   ]
  },
  {
   "cell_type": "code",
   "execution_count": 0,
   "metadata": {
    "colab": {},
    "colab_type": "code",
    "id": "eXBo82iXjzIH"
   },
   "outputs": [],
   "source": [
    "# TODO: Write your code here to train the two models\n",
    "from sklearn.linear_model import LinearRegression\n",
    "basic_model = LinearRegression().fit(train_data[basic_features], train_data['price'])\n",
    "advanced_model = LinearRegression().fit(train_data[advanced_features], train_data['price'])"
   ]
  },
  {
   "cell_type": "markdown",
   "metadata": {
    "colab_type": "text",
    "id": "Wn5dkHCWjzIJ"
   },
   "source": [
    "Now, we will evaluate the models' predictions to see how they perform.\n",
    "\n",
    "---\n",
    "### Q4) What are your Root Mean Squared Errors (RMSE) on your training data using the basic model and then the advanced model?\n",
    "Use the models you trained in last section to predict what it thinks the values for the data points should be. You can look at the documentation from the `LinearRegression` model to see how to make predictions. \n",
    "\n",
    "The RMSE is another commonly reported metric used for regression models. The RMSE is similar to RSS but is modified slightly to scale the number down. The RMSE is defined as $$RMSE = \\sqrt{\\frac{1}{n}RSS}$$\n",
    "\n",
    "where the thing inside the square root is refered to as the Mean Square Error (MSE). You will also need to use the `mean_squared_error` function from sklearn (documentation [here](https://scikit-learn.org/stable/modules/generated/sklearn.metrics.mean_squared_error.html#sklearn.metrics.mean_squared_error)) which you'll have to import as well. \n",
    "\n",
    "**Remember, we want you to report the square root of the MSE numbers**. \n",
    "<div class=\"alert alert-block alert-success\">\n",
    "<b>Options:</b> Enter one of these options on Gradescope.\n",
    "<ul>\n",
    "    <li>Train: ~4,090,457, Test: ~4,378,167</li>\n",
    "    <li>Train: ~258,527, Test: ~203,805</li>\n",
    "    <li>Train: ~3,157,653, Test: ~3,159,982</li>\n",
    "    <li>Train: ~244,005, Test: ~190,473</li>\n",
    "</ul>\n",
    "</div>"
   ]
  },
  {
   "cell_type": "code",
   "execution_count": 60,
   "metadata": {
    "colab": {
     "base_uri": "https://localhost:8080/",
     "height": 68
    },
    "colab_type": "code",
    "id": "Vrb5em3WjzIJ",
    "outputId": "60870e77-685c-4768-f30f-2283a19317e5"
   },
   "outputs": [
    {
     "name": "stdout",
     "output_type": "stream",
     "text": [
      "basic train= 258524.68484833508\n",
      "advanced train= 203805.41055523997\n"
     ]
    },
    {
     "data": {
      "text/plain": [
       "66835012675.93097"
      ]
     },
     "execution_count": 60,
     "metadata": {
      "tags": []
     },
     "output_type": "execute_result"
    }
   ],
   "source": [
    "# Write your code here\n",
    "from sklearn.metrics import mean_squared_error\n",
    "print(\"basic train=\",mean_squared_error(train_data['price'], basic_model.predict(train_data[basic_features]))**(1/2))\n",
    "print(\"advanced train=\",mean_squared_error(train_data['price'], advanced_model.predict(train_data[advanced_features]))**(1/2))"
   ]
  },
  {
   "cell_type": "markdown",
   "metadata": {
    "colab_type": "text",
    "id": "W9VtkBJNjzIL"
   },
   "source": [
    "---\n",
    "### Q5) What are your RMSE errors on your test data using the basic model and then the advanced model?\n",
    "<div class=\"alert alert-block alert-success\">\n",
    "<b>Options:</b> Enter one of these options on Gradescope.\n",
    "<ul>\n",
    "    <li>Train: ~4,090,457, Test: ~4,378,167</li>\n",
    "    <li>Train: ~258,527, Test: ~203,805</li>\n",
    "    <li>Train: ~3,157,653, Test: ~3,159,982</li>\n",
    "    <li>Train: ~244,005, Test: ~190,473</li>\n",
    "</ul>\n",
    "</div>"
   ]
  },
  {
   "cell_type": "code",
   "execution_count": 61,
   "metadata": {
    "colab": {
     "base_uri": "https://localhost:8080/",
     "height": 51
    },
    "colab_type": "code",
    "id": "RkXRM4GmjzIM",
    "outputId": "9e78a109-b57f-4c10-acee-cdf33256d39d"
   },
   "outputs": [
    {
     "name": "stdout",
     "output_type": "stream",
     "text": [
      "basic test= 244004.77443104176\n",
      "advanced test= 190473.37570967825\n"
     ]
    }
   ],
   "source": [
    "# TODO: Write your code here\n",
    "print(\"basic test=\",mean_squared_error(test_data['price'], basic_model.predict(test_data[basic_features]))**(1/2))\n",
    "print(\"advanced test=\",mean_squared_error(test_data['price'], advanced_model.predict(test_data[advanced_features]))**(1/2))"
   ]
  },
  {
   "cell_type": "markdown",
   "metadata": {
    "colab_type": "text",
    "id": "VqepF5IojzIO"
   },
   "source": [
    "---\n",
    "### Q6) Which model do you think will perform better on unseen data and why?\n",
    "These questions do not need any code to answer them.\n",
    "### Q6.a) Which model would perform better?\n",
    "\n",
    "<div class=\"alert alert-block alert-success\">\n",
    "<b>Options:</b> Enter one of these options on Gradescope.\n",
    "<ul>\n",
    "    <li>Model with the basic features</li>\n",
    "    <li>Model with the advanced features</li>\n",
    "</ul>\n",
    "</div>\n",
    "\n",
    "### Q6.b) Why?\n",
    "<div class=\"alert alert-block alert-success\">\n",
    "<b>Options:</b> Enter one of these options on Gradescope.\n",
    "<ul>\n",
    "    <li>It has higher training error</li>\n",
    "    <li>It uses more features</li>\n",
    "    <li>It has lower test error</li>\n",
    "    <li>It has lower training error</li>\n",
    "    <li>It has higher test error</li>\n",
    "</ul>\n",
    "</div>\n"
   ]
  },
  {
   "cell_type": "code",
   "execution_count": 0,
   "metadata": {
    "colab": {},
    "colab_type": "code",
    "id": "_UMl7ZDLp1fb"
   },
   "outputs": [],
   "source": []
  }
 ],
 "metadata": {
  "colab": {
   "collapsed_sections": [],
   "name": "A1-House-Prices.ipynb",
   "provenance": []
  },
  "kernelspec": {
   "display_name": "Python 3",
   "language": "python",
   "name": "python3"
  },
  "language_info": {
   "codemirror_mode": {
    "name": "ipython",
    "version": 3
   },
   "file_extension": ".py",
   "mimetype": "text/x-python",
   "name": "python",
   "nbconvert_exporter": "python",
   "pygments_lexer": "ipython3",
   "version": "3.7.6"
  }
 },
 "nbformat": 4,
 "nbformat_minor": 1
}
